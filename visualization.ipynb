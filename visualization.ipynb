{
 "cells": [
  {
   "cell_type": "code",
   "execution_count": 45,
   "id": "096ab5f5",
   "metadata": {},
   "outputs": [],
   "source": [
    "#packages\n",
    "import pandas as pd\n",
    "import numpy as np\n",
    "import seaborn as sns\n",
    "import matplotlib.pyplot as plt\n",
    "import plotly.express as px\n",
    "from plotly.subplots import make_subplots\n",
    "import plotly.graph_objects as go\n",
    "\n"
   ]
  },
  {
   "cell_type": "code",
   "execution_count": 46,
   "id": "5a88e228",
   "metadata": {},
   "outputs": [
    {
     "name": "stdout",
     "output_type": "stream",
     "text": [
      "<class 'pandas.core.frame.DataFrame'>\n",
      "RangeIndex: 755 entries, 0 to 754\n",
      "Data columns (total 10 columns):\n",
      " #   Column       Non-Null Count  Dtype\n",
      "---  ------       --------------  -----\n",
      " 0   footfall     755 non-null    int64\n",
      " 1   tempMode     755 non-null    int64\n",
      " 2   AQ           755 non-null    int64\n",
      " 3   USS          755 non-null    int64\n",
      " 4   CS           755 non-null    int64\n",
      " 5   VOC          755 non-null    int64\n",
      " 6   RP           755 non-null    int64\n",
      " 7   IP           755 non-null    int64\n",
      " 8   Temperature  755 non-null    int64\n",
      " 9   fail         755 non-null    int64\n",
      "dtypes: int64(10)\n",
      "memory usage: 59.1 KB\n"
     ]
    }
   ],
   "source": [
    "df=pd.read_csv('train.csv')\n",
    "df.info()"
   ]
  },
  {
   "cell_type": "code",
   "execution_count": 47,
   "id": "969bd82d",
   "metadata": {},
   "outputs": [
    {
     "data": {
      "text/plain": [
       "footfall       0\n",
       "tempMode       0\n",
       "AQ             0\n",
       "USS            0\n",
       "CS             0\n",
       "VOC            0\n",
       "RP             0\n",
       "IP             0\n",
       "Temperature    0\n",
       "fail           0\n",
       "dtype: int64"
      ]
     },
     "execution_count": 47,
     "metadata": {},
     "output_type": "execute_result"
    }
   ],
   "source": [
    "df.isnull().sum()"
   ]
  },
  {
   "cell_type": "code",
   "execution_count": 48,
   "id": "8826b347",
   "metadata": {},
   "outputs": [
    {
     "data": {
      "text/html": [
       "<div>\n",
       "<style scoped>\n",
       "    .dataframe tbody tr th:only-of-type {\n",
       "        vertical-align: middle;\n",
       "    }\n",
       "\n",
       "    .dataframe tbody tr th {\n",
       "        vertical-align: top;\n",
       "    }\n",
       "\n",
       "    .dataframe thead th {\n",
       "        text-align: right;\n",
       "    }\n",
       "</style>\n",
       "<table border=\"1\" class=\"dataframe\">\n",
       "  <thead>\n",
       "    <tr style=\"text-align: right;\">\n",
       "      <th></th>\n",
       "      <th>footfall</th>\n",
       "      <th>tempMode</th>\n",
       "      <th>AQ</th>\n",
       "      <th>USS</th>\n",
       "      <th>CS</th>\n",
       "      <th>VOC</th>\n",
       "      <th>RP</th>\n",
       "      <th>IP</th>\n",
       "      <th>Temperature</th>\n",
       "      <th>fail</th>\n",
       "    </tr>\n",
       "  </thead>\n",
       "  <tbody>\n",
       "    <tr>\n",
       "      <th>count</th>\n",
       "      <td>755.000000</td>\n",
       "      <td>755.000000</td>\n",
       "      <td>755.000000</td>\n",
       "      <td>755.000000</td>\n",
       "      <td>755.000000</td>\n",
       "      <td>755.000000</td>\n",
       "      <td>755.000000</td>\n",
       "      <td>755.000000</td>\n",
       "      <td>755.000000</td>\n",
       "      <td>755.000000</td>\n",
       "    </tr>\n",
       "    <tr>\n",
       "      <th>mean</th>\n",
       "      <td>318.109934</td>\n",
       "      <td>3.770861</td>\n",
       "      <td>4.309934</td>\n",
       "      <td>2.968212</td>\n",
       "      <td>5.388079</td>\n",
       "      <td>2.774834</td>\n",
       "      <td>47.054305</td>\n",
       "      <td>4.566887</td>\n",
       "      <td>16.247682</td>\n",
       "      <td>0.405298</td>\n",
       "    </tr>\n",
       "    <tr>\n",
       "      <th>std</th>\n",
       "      <td>1108.393112</td>\n",
       "      <td>2.655598</td>\n",
       "      <td>1.437226</td>\n",
       "      <td>1.387342</td>\n",
       "      <td>1.287201</td>\n",
       "      <td>2.253710</td>\n",
       "      <td>16.616871</td>\n",
       "      <td>1.578777</td>\n",
       "      <td>6.046316</td>\n",
       "      <td>0.491275</td>\n",
       "    </tr>\n",
       "    <tr>\n",
       "      <th>min</th>\n",
       "      <td>0.000000</td>\n",
       "      <td>0.000000</td>\n",
       "      <td>1.000000</td>\n",
       "      <td>1.000000</td>\n",
       "      <td>1.000000</td>\n",
       "      <td>0.000000</td>\n",
       "      <td>19.000000</td>\n",
       "      <td>1.000000</td>\n",
       "      <td>1.000000</td>\n",
       "      <td>0.000000</td>\n",
       "    </tr>\n",
       "    <tr>\n",
       "      <th>25%</th>\n",
       "      <td>1.500000</td>\n",
       "      <td>1.000000</td>\n",
       "      <td>3.000000</td>\n",
       "      <td>2.000000</td>\n",
       "      <td>5.000000</td>\n",
       "      <td>1.000000</td>\n",
       "      <td>34.000000</td>\n",
       "      <td>3.000000</td>\n",
       "      <td>13.000000</td>\n",
       "      <td>0.000000</td>\n",
       "    </tr>\n",
       "    <tr>\n",
       "      <th>50%</th>\n",
       "      <td>22.000000</td>\n",
       "      <td>3.000000</td>\n",
       "      <td>4.000000</td>\n",
       "      <td>3.000000</td>\n",
       "      <td>6.000000</td>\n",
       "      <td>2.000000</td>\n",
       "      <td>44.000000</td>\n",
       "      <td>4.000000</td>\n",
       "      <td>17.000000</td>\n",
       "      <td>0.000000</td>\n",
       "    </tr>\n",
       "    <tr>\n",
       "      <th>75%</th>\n",
       "      <td>110.000000</td>\n",
       "      <td>7.000000</td>\n",
       "      <td>6.000000</td>\n",
       "      <td>4.000000</td>\n",
       "      <td>6.000000</td>\n",
       "      <td>5.000000</td>\n",
       "      <td>58.000000</td>\n",
       "      <td>6.000000</td>\n",
       "      <td>21.000000</td>\n",
       "      <td>1.000000</td>\n",
       "    </tr>\n",
       "    <tr>\n",
       "      <th>max</th>\n",
       "      <td>7300.000000</td>\n",
       "      <td>7.000000</td>\n",
       "      <td>7.000000</td>\n",
       "      <td>7.000000</td>\n",
       "      <td>7.000000</td>\n",
       "      <td>6.000000</td>\n",
       "      <td>91.000000</td>\n",
       "      <td>7.000000</td>\n",
       "      <td>24.000000</td>\n",
       "      <td>1.000000</td>\n",
       "    </tr>\n",
       "  </tbody>\n",
       "</table>\n",
       "</div>"
      ],
      "text/plain": [
       "          footfall    tempMode          AQ         USS          CS  \\\n",
       "count   755.000000  755.000000  755.000000  755.000000  755.000000   \n",
       "mean    318.109934    3.770861    4.309934    2.968212    5.388079   \n",
       "std    1108.393112    2.655598    1.437226    1.387342    1.287201   \n",
       "min       0.000000    0.000000    1.000000    1.000000    1.000000   \n",
       "25%       1.500000    1.000000    3.000000    2.000000    5.000000   \n",
       "50%      22.000000    3.000000    4.000000    3.000000    6.000000   \n",
       "75%     110.000000    7.000000    6.000000    4.000000    6.000000   \n",
       "max    7300.000000    7.000000    7.000000    7.000000    7.000000   \n",
       "\n",
       "              VOC          RP          IP  Temperature        fail  \n",
       "count  755.000000  755.000000  755.000000   755.000000  755.000000  \n",
       "mean     2.774834   47.054305    4.566887    16.247682    0.405298  \n",
       "std      2.253710   16.616871    1.578777     6.046316    0.491275  \n",
       "min      0.000000   19.000000    1.000000     1.000000    0.000000  \n",
       "25%      1.000000   34.000000    3.000000    13.000000    0.000000  \n",
       "50%      2.000000   44.000000    4.000000    17.000000    0.000000  \n",
       "75%      5.000000   58.000000    6.000000    21.000000    1.000000  \n",
       "max      6.000000   91.000000    7.000000    24.000000    1.000000  "
      ]
     },
     "execution_count": 48,
     "metadata": {},
     "output_type": "execute_result"
    }
   ],
   "source": [
    "df.describe()"
   ]
  },
  {
   "cell_type": "markdown",
   "id": "2cf06f40",
   "metadata": {},
   "source": [
    "See that the dataset is already clean, same values, and for now the rest of the ariables seem ok. "
   ]
  },
  {
   "cell_type": "code",
   "execution_count": 49,
   "id": "6307854e",
   "metadata": {},
   "outputs": [
    {
     "data": {
      "application/vnd.plotly.v1+json": {
       "config": {
        "plotlyServerURL": "https://plot.ly"
       },
       "data": [
        {
         "coloraxis": "coloraxis",
         "hovertemplate": "x: %{x}<br>y: %{y}<br>color: %{z}<extra></extra>",
         "name": "0",
         "texttemplate": "%{z}",
         "type": "heatmap",
         "x": [
          "footfall",
          "tempMode",
          "AQ",
          "USS",
          "CS",
          "VOC",
          "RP",
          "IP",
          "Temperature",
          "fail"
         ],
         "xaxis": "x",
         "y": [
          "footfall",
          "tempMode",
          "AQ",
          "USS",
          "CS",
          "VOC",
          "RP",
          "IP",
          "Temperature",
          "fail"
         ],
         "yaxis": "y",
         "z": {
          "bdata": "AAAAAAAA8D97FK5H4XqEv7gehetRuK6/exSuR+F6hD+4HoXrUbiuP+xRuB6F67G/exSuR+F6pL97FK5H4XqUv7gehetRuJ6/CtejcD0Kt797FK5H4XqEvwAAAAAAAPA/exSuR+F6hL97FK5H4XqEv3sUrkfheoS/7FG4HoXrsb+amZmZmZnZP7gehetRuK6/exSuR+F6tL97FK5H4Xqkv7gehetRuK6/exSuR+F6hL8AAAAAAADwP6RwPQrXo8C/mpmZmZmZub8zMzMzMzPjPwrXo3A9Crc/uB6F61G4vr97FK5H4XqEPz0K16NwPeI/exSuR+F6hD97FK5H4XqEv6RwPQrXo8C/AAAAAAAA8D9mZmZmZmbWv5qZmZmZmdm/exSuR+F6lL/hehSuR+HKv+F6FK5H4cq/FK5H4XoU3r+4HoXrUbiuP3sUrkfheoS/mpmZmZmZub9mZmZmZmbWvwAAAAAAAPA/uB6F61G4nj97FK5H4XqkvwrXo3A9Csc/7FG4HoXrwT97FK5H4XqEP+xRuB6F67G/7FG4HoXrsb8zMzMzMzPjP5qZmZmZmdm/uB6F61G4nj8AAAAAAADwP5qZmZmZmam/KVyPwvUovD9SuB6F61HIP5qZmZmZmek/exSuR+F6pL+amZmZmZnZPwrXo3A9Crc/exSuR+F6lL97FK5H4Xqkv5qZmZmZmam/AAAAAAAA8D/D9Shcj8LFv7gehetRuL6/exSuR+F6lD97FK5H4XqUv7gehetRuK6/uB6F61G4vr/hehSuR+HKvwrXo3A9Csc/KVyPwvUovD/D9Shcj8LFvwAAAAAAAPA/9ihcj8L12D8K16NwPQq3P7gehetRuJ6/exSuR+F6tL97FK5H4XqEP+F6FK5H4cq/7FG4HoXrwT9SuB6F61HIP7gehetRuL6/9ihcj8L12D8AAAAAAADwP8P1KFyPwsU/CtejcD0Kt797FK5H4Xqkvz0K16NwPeI/FK5H4XoU3r97FK5H4XqEP5qZmZmZmek/exSuR+F6lD8K16NwPQq3P8P1KFyPwsU/AAAAAAAA8D8=",
          "dtype": "f8",
          "shape": "10, 10"
         }
        }
       ],
       "layout": {
        "coloraxis": {
         "colorscale": [
          [
           0,
           "rgb(5,48,97)"
          ],
          [
           0.1,
           "rgb(33,102,172)"
          ],
          [
           0.2,
           "rgb(67,147,195)"
          ],
          [
           0.3,
           "rgb(146,197,222)"
          ],
          [
           0.4,
           "rgb(209,229,240)"
          ],
          [
           0.5,
           "rgb(247,247,247)"
          ],
          [
           0.6,
           "rgb(253,219,199)"
          ],
          [
           0.7,
           "rgb(244,165,130)"
          ],
          [
           0.8,
           "rgb(214,96,77)"
          ],
          [
           0.9,
           "rgb(178,24,43)"
          ],
          [
           1,
           "rgb(103,0,31)"
          ]
         ]
        },
        "height": 600,
        "template": {
         "data": {
          "bar": [
           {
            "error_x": {
             "color": "#2a3f5f"
            },
            "error_y": {
             "color": "#2a3f5f"
            },
            "marker": {
             "line": {
              "color": "#E5ECF6",
              "width": 0.5
             },
             "pattern": {
              "fillmode": "overlay",
              "size": 10,
              "solidity": 0.2
             }
            },
            "type": "bar"
           }
          ],
          "barpolar": [
           {
            "marker": {
             "line": {
              "color": "#E5ECF6",
              "width": 0.5
             },
             "pattern": {
              "fillmode": "overlay",
              "size": 10,
              "solidity": 0.2
             }
            },
            "type": "barpolar"
           }
          ],
          "carpet": [
           {
            "aaxis": {
             "endlinecolor": "#2a3f5f",
             "gridcolor": "white",
             "linecolor": "white",
             "minorgridcolor": "white",
             "startlinecolor": "#2a3f5f"
            },
            "baxis": {
             "endlinecolor": "#2a3f5f",
             "gridcolor": "white",
             "linecolor": "white",
             "minorgridcolor": "white",
             "startlinecolor": "#2a3f5f"
            },
            "type": "carpet"
           }
          ],
          "choropleth": [
           {
            "colorbar": {
             "outlinewidth": 0,
             "ticks": ""
            },
            "type": "choropleth"
           }
          ],
          "contour": [
           {
            "colorbar": {
             "outlinewidth": 0,
             "ticks": ""
            },
            "colorscale": [
             [
              0,
              "#0d0887"
             ],
             [
              0.1111111111111111,
              "#46039f"
             ],
             [
              0.2222222222222222,
              "#7201a8"
             ],
             [
              0.3333333333333333,
              "#9c179e"
             ],
             [
              0.4444444444444444,
              "#bd3786"
             ],
             [
              0.5555555555555556,
              "#d8576b"
             ],
             [
              0.6666666666666666,
              "#ed7953"
             ],
             [
              0.7777777777777778,
              "#fb9f3a"
             ],
             [
              0.8888888888888888,
              "#fdca26"
             ],
             [
              1,
              "#f0f921"
             ]
            ],
            "type": "contour"
           }
          ],
          "contourcarpet": [
           {
            "colorbar": {
             "outlinewidth": 0,
             "ticks": ""
            },
            "type": "contourcarpet"
           }
          ],
          "heatmap": [
           {
            "colorbar": {
             "outlinewidth": 0,
             "ticks": ""
            },
            "colorscale": [
             [
              0,
              "#0d0887"
             ],
             [
              0.1111111111111111,
              "#46039f"
             ],
             [
              0.2222222222222222,
              "#7201a8"
             ],
             [
              0.3333333333333333,
              "#9c179e"
             ],
             [
              0.4444444444444444,
              "#bd3786"
             ],
             [
              0.5555555555555556,
              "#d8576b"
             ],
             [
              0.6666666666666666,
              "#ed7953"
             ],
             [
              0.7777777777777778,
              "#fb9f3a"
             ],
             [
              0.8888888888888888,
              "#fdca26"
             ],
             [
              1,
              "#f0f921"
             ]
            ],
            "type": "heatmap"
           }
          ],
          "histogram": [
           {
            "marker": {
             "pattern": {
              "fillmode": "overlay",
              "size": 10,
              "solidity": 0.2
             }
            },
            "type": "histogram"
           }
          ],
          "histogram2d": [
           {
            "colorbar": {
             "outlinewidth": 0,
             "ticks": ""
            },
            "colorscale": [
             [
              0,
              "#0d0887"
             ],
             [
              0.1111111111111111,
              "#46039f"
             ],
             [
              0.2222222222222222,
              "#7201a8"
             ],
             [
              0.3333333333333333,
              "#9c179e"
             ],
             [
              0.4444444444444444,
              "#bd3786"
             ],
             [
              0.5555555555555556,
              "#d8576b"
             ],
             [
              0.6666666666666666,
              "#ed7953"
             ],
             [
              0.7777777777777778,
              "#fb9f3a"
             ],
             [
              0.8888888888888888,
              "#fdca26"
             ],
             [
              1,
              "#f0f921"
             ]
            ],
            "type": "histogram2d"
           }
          ],
          "histogram2dcontour": [
           {
            "colorbar": {
             "outlinewidth": 0,
             "ticks": ""
            },
            "colorscale": [
             [
              0,
              "#0d0887"
             ],
             [
              0.1111111111111111,
              "#46039f"
             ],
             [
              0.2222222222222222,
              "#7201a8"
             ],
             [
              0.3333333333333333,
              "#9c179e"
             ],
             [
              0.4444444444444444,
              "#bd3786"
             ],
             [
              0.5555555555555556,
              "#d8576b"
             ],
             [
              0.6666666666666666,
              "#ed7953"
             ],
             [
              0.7777777777777778,
              "#fb9f3a"
             ],
             [
              0.8888888888888888,
              "#fdca26"
             ],
             [
              1,
              "#f0f921"
             ]
            ],
            "type": "histogram2dcontour"
           }
          ],
          "mesh3d": [
           {
            "colorbar": {
             "outlinewidth": 0,
             "ticks": ""
            },
            "type": "mesh3d"
           }
          ],
          "parcoords": [
           {
            "line": {
             "colorbar": {
              "outlinewidth": 0,
              "ticks": ""
             }
            },
            "type": "parcoords"
           }
          ],
          "pie": [
           {
            "automargin": true,
            "type": "pie"
           }
          ],
          "scatter": [
           {
            "fillpattern": {
             "fillmode": "overlay",
             "size": 10,
             "solidity": 0.2
            },
            "type": "scatter"
           }
          ],
          "scatter3d": [
           {
            "line": {
             "colorbar": {
              "outlinewidth": 0,
              "ticks": ""
             }
            },
            "marker": {
             "colorbar": {
              "outlinewidth": 0,
              "ticks": ""
             }
            },
            "type": "scatter3d"
           }
          ],
          "scattercarpet": [
           {
            "marker": {
             "colorbar": {
              "outlinewidth": 0,
              "ticks": ""
             }
            },
            "type": "scattercarpet"
           }
          ],
          "scattergeo": [
           {
            "marker": {
             "colorbar": {
              "outlinewidth": 0,
              "ticks": ""
             }
            },
            "type": "scattergeo"
           }
          ],
          "scattergl": [
           {
            "marker": {
             "colorbar": {
              "outlinewidth": 0,
              "ticks": ""
             }
            },
            "type": "scattergl"
           }
          ],
          "scattermap": [
           {
            "marker": {
             "colorbar": {
              "outlinewidth": 0,
              "ticks": ""
             }
            },
            "type": "scattermap"
           }
          ],
          "scattermapbox": [
           {
            "marker": {
             "colorbar": {
              "outlinewidth": 0,
              "ticks": ""
             }
            },
            "type": "scattermapbox"
           }
          ],
          "scatterpolar": [
           {
            "marker": {
             "colorbar": {
              "outlinewidth": 0,
              "ticks": ""
             }
            },
            "type": "scatterpolar"
           }
          ],
          "scatterpolargl": [
           {
            "marker": {
             "colorbar": {
              "outlinewidth": 0,
              "ticks": ""
             }
            },
            "type": "scatterpolargl"
           }
          ],
          "scatterternary": [
           {
            "marker": {
             "colorbar": {
              "outlinewidth": 0,
              "ticks": ""
             }
            },
            "type": "scatterternary"
           }
          ],
          "surface": [
           {
            "colorbar": {
             "outlinewidth": 0,
             "ticks": ""
            },
            "colorscale": [
             [
              0,
              "#0d0887"
             ],
             [
              0.1111111111111111,
              "#46039f"
             ],
             [
              0.2222222222222222,
              "#7201a8"
             ],
             [
              0.3333333333333333,
              "#9c179e"
             ],
             [
              0.4444444444444444,
              "#bd3786"
             ],
             [
              0.5555555555555556,
              "#d8576b"
             ],
             [
              0.6666666666666666,
              "#ed7953"
             ],
             [
              0.7777777777777778,
              "#fb9f3a"
             ],
             [
              0.8888888888888888,
              "#fdca26"
             ],
             [
              1,
              "#f0f921"
             ]
            ],
            "type": "surface"
           }
          ],
          "table": [
           {
            "cells": {
             "fill": {
              "color": "#EBF0F8"
             },
             "line": {
              "color": "white"
             }
            },
            "header": {
             "fill": {
              "color": "#C8D4E3"
             },
             "line": {
              "color": "white"
             }
            },
            "type": "table"
           }
          ]
         },
         "layout": {
          "annotationdefaults": {
           "arrowcolor": "#2a3f5f",
           "arrowhead": 0,
           "arrowwidth": 1
          },
          "autotypenumbers": "strict",
          "coloraxis": {
           "colorbar": {
            "outlinewidth": 0,
            "ticks": ""
           }
          },
          "colorscale": {
           "diverging": [
            [
             0,
             "#8e0152"
            ],
            [
             0.1,
             "#c51b7d"
            ],
            [
             0.2,
             "#de77ae"
            ],
            [
             0.3,
             "#f1b6da"
            ],
            [
             0.4,
             "#fde0ef"
            ],
            [
             0.5,
             "#f7f7f7"
            ],
            [
             0.6,
             "#e6f5d0"
            ],
            [
             0.7,
             "#b8e186"
            ],
            [
             0.8,
             "#7fbc41"
            ],
            [
             0.9,
             "#4d9221"
            ],
            [
             1,
             "#276419"
            ]
           ],
           "sequential": [
            [
             0,
             "#0d0887"
            ],
            [
             0.1111111111111111,
             "#46039f"
            ],
            [
             0.2222222222222222,
             "#7201a8"
            ],
            [
             0.3333333333333333,
             "#9c179e"
            ],
            [
             0.4444444444444444,
             "#bd3786"
            ],
            [
             0.5555555555555556,
             "#d8576b"
            ],
            [
             0.6666666666666666,
             "#ed7953"
            ],
            [
             0.7777777777777778,
             "#fb9f3a"
            ],
            [
             0.8888888888888888,
             "#fdca26"
            ],
            [
             1,
             "#f0f921"
            ]
           ],
           "sequentialminus": [
            [
             0,
             "#0d0887"
            ],
            [
             0.1111111111111111,
             "#46039f"
            ],
            [
             0.2222222222222222,
             "#7201a8"
            ],
            [
             0.3333333333333333,
             "#9c179e"
            ],
            [
             0.4444444444444444,
             "#bd3786"
            ],
            [
             0.5555555555555556,
             "#d8576b"
            ],
            [
             0.6666666666666666,
             "#ed7953"
            ],
            [
             0.7777777777777778,
             "#fb9f3a"
            ],
            [
             0.8888888888888888,
             "#fdca26"
            ],
            [
             1,
             "#f0f921"
            ]
           ]
          },
          "colorway": [
           "#636efa",
           "#EF553B",
           "#00cc96",
           "#ab63fa",
           "#FFA15A",
           "#19d3f3",
           "#FF6692",
           "#B6E880",
           "#FF97FF",
           "#FECB52"
          ],
          "font": {
           "color": "#2a3f5f"
          },
          "geo": {
           "bgcolor": "white",
           "lakecolor": "white",
           "landcolor": "#E5ECF6",
           "showlakes": true,
           "showland": true,
           "subunitcolor": "white"
          },
          "hoverlabel": {
           "align": "left"
          },
          "hovermode": "closest",
          "mapbox": {
           "style": "light"
          },
          "paper_bgcolor": "white",
          "plot_bgcolor": "#E5ECF6",
          "polar": {
           "angularaxis": {
            "gridcolor": "white",
            "linecolor": "white",
            "ticks": ""
           },
           "bgcolor": "#E5ECF6",
           "radialaxis": {
            "gridcolor": "white",
            "linecolor": "white",
            "ticks": ""
           }
          },
          "scene": {
           "xaxis": {
            "backgroundcolor": "#E5ECF6",
            "gridcolor": "white",
            "gridwidth": 2,
            "linecolor": "white",
            "showbackground": true,
            "ticks": "",
            "zerolinecolor": "white"
           },
           "yaxis": {
            "backgroundcolor": "#E5ECF6",
            "gridcolor": "white",
            "gridwidth": 2,
            "linecolor": "white",
            "showbackground": true,
            "ticks": "",
            "zerolinecolor": "white"
           },
           "zaxis": {
            "backgroundcolor": "#E5ECF6",
            "gridcolor": "white",
            "gridwidth": 2,
            "linecolor": "white",
            "showbackground": true,
            "ticks": "",
            "zerolinecolor": "white"
           }
          },
          "shapedefaults": {
           "line": {
            "color": "#2a3f5f"
           }
          },
          "ternary": {
           "aaxis": {
            "gridcolor": "white",
            "linecolor": "white",
            "ticks": ""
           },
           "baxis": {
            "gridcolor": "white",
            "linecolor": "white",
            "ticks": ""
           },
           "bgcolor": "#E5ECF6",
           "caxis": {
            "gridcolor": "white",
            "linecolor": "white",
            "ticks": ""
           }
          },
          "title": {
           "x": 0.05
          },
          "xaxis": {
           "automargin": true,
           "gridcolor": "white",
           "linecolor": "white",
           "ticks": "",
           "title": {
            "standoff": 15
           },
           "zerolinecolor": "white",
           "zerolinewidth": 2
          },
          "yaxis": {
           "automargin": true,
           "gridcolor": "white",
           "linecolor": "white",
           "ticks": "",
           "title": {
            "standoff": 15
           },
           "zerolinecolor": "white",
           "zerolinewidth": 2
          }
         }
        },
        "title": {
         "text": "Correlation matrix"
        },
        "width": 700,
        "xaxis": {
         "anchor": "y",
         "constrain": "domain",
         "domain": [
          0,
          1
         ],
         "scaleanchor": "y"
        },
        "yaxis": {
         "anchor": "x",
         "autorange": "reversed",
         "constrain": "domain",
         "domain": [
          0,
          1
         ]
        }
       }
      }
     },
     "metadata": {},
     "output_type": "display_data"
    }
   ],
   "source": [
    "matrix=df.corr(method='pearson').round(2)\n",
    "#matrix.style.background_gradient()\n",
    "fig=px.imshow(\n",
    "    matrix,\n",
    "    color_continuous_scale='RdBu_r', \n",
    "    text_auto=True, #displays the corr in numbers\n",
    "    title='Correlation matrix',\n",
    "    width=700,\n",
    "    height=600\n",
    ")\n",
    "\n",
    "fig.show()\n"
   ]
  },
  {
   "cell_type": "markdown",
   "id": "60c35dfe",
   "metadata": {},
   "source": [
    "What do we see?\n",
    "Strong correlation between VOC and fail, likely a key predicator. Also see som for the AQ, and negative for the USS. Rest is not unuseful, can correlate with each other. "
   ]
  },
  {
   "cell_type": "code",
   "execution_count": 50,
   "id": "b9644eec",
   "metadata": {},
   "outputs": [
    {
     "data": {
      "application/vnd.plotly.v1+json": {
       "config": {
        "plotlyServerURL": "https://plot.ly"
       },
       "data": [
        {
         "alignmentgroup": "True",
         "hovertemplate": "fail=%{x}<br>VOC=%{y}<extra></extra>",
         "legendgroup": "",
         "marker": {
          "color": "#636efa"
         },
         "name": "",
         "notched": false,
         "offsetgroup": "",
         "orientation": "v",
         "showlegend": false,
         "type": "box",
         "x": {
          "bdata": "AQABAQEAAAEBAQAAAAEAAQABAAAAAAABAAABAAAAAAABAAAAAAEAAAEBAAEAAAAAAAEAAQAAAQABAQABAAAAAQEBAAAAAAABAAAAAQEBAAEAAAABAQEBAAEAAAEAAAAAAQAAAQAAAQEBAAAAAQABAAEAAQAAAAAAAQAAAQEAAQEAAAAAAQAAAAEAAQAAAQEAAAABAAAAAAEBAQABAAEBAQEAAAABAAEBAQEAAAEBAAEBAQABAQAAAAABAAAAAQEAAQABAAEAAAAAAAAAAQABAQEBAQEAAQABAAABAAEAAAABAQAAAAAAAAEBAAAAAAABAAAAAQABAAEBAAAAAQEAAQEAAAAAAAAAAAEAAAABAQABAQAAAAEBAAABAAAAAAEBAQABAAEBAQABAAAAAQAAAAABAAEBAQEBAAAAAAAAAAEBAAAAAQEAAAAAAQAAAAAAAQEAAQEBAQABAAAAAAEBAQABAAEAAAAAAQEAAQABAQABAQAAAAAAAAAAAAAAAQEAAAABAQEAAAABAQAAAAAAAQABAAEAAAAAAQEAAAAAAQABAQAAAAABAAEBAQEBAAAAAAEAAAABAAAAAQEAAQEBAAAAAQEBAAEAAAABAQAAAAAAAQABAAABAQEBAQEAAAABAQABAQAAAAEAAQABAAEAAQAAAAEAAAABAQAAAQABAQEAAQEBAQEAAQEAAQEAAAAAAAEBAQAAAAABAAEAAQEBAAEBAQEAAAAAAQEAAAAAAAEAAAABAAABAAEAAAAAAQAAAAEBAQEAAAEAAAAAAQAAAQAAAQAAAAABAAABAQABAQEAAQEBAAABAAAAAAABAAABAQEAAQEAAAABAQAAAAAAAAABAQAAAAEAAAEAAAEAAAEBAQEAAAEAAAAAAAEAAQAAAAABAAAAAQAAAAABAAAAAQAAAAABAAAAAQEAAQAAAQAAAQAAAQEAAAABAAEBAAEAAQAAAQEAAAEAAAEAAAAAAAAAAAEAAQEAAAEAAAEAAAABAQA=",
          "dtype": "i1"
         },
         "x0": " ",
         "xaxis": "x",
         "y": {
          "bdata": "BQIFBQQBAQUBBgABAAUABAIGAQUAAgQFAAEEBAAAAAAGAgEAAAUAAAYFAAYBAQACAQYBBQECBgUFBgEGAAICBQEGAAECAAABBAADBAYGBQQBAAIGBQUFAQYCAQIDAAEABgMBBgAABgYFAAEABQIFAgUABgECAAIDBgABBQUABAUBAQUFBgQAAAYBBgEDAQQDBAQEAwABBQYGBQUGAAUCAwYBAQIGAQYFAQQAAQYCAgYFBQIGBgAAAQEFAAIEAAUABgUGAgUCAQUBAQEEBgIFBQYEBQYBBgADAAAEAQYBAAEEBQIBAgEBAQYGBgEBAAAEBgAABQEFAQUGAAIEBAUBBAMAAAABAAEAAAUAAQIFBAAFBAAAAgUFAQAGAgACAgYGBgIEAgYFBQEFAQMABQAAAAIFBQQGBAQGAAEAAQIABQYGBAMABAYAAAAABQAEAgEBBgYAAwYEBAAGAQABAAQGBQUGAwYAAAEABgYABgIFBgEGBgIEAgACAAABAAYBBQYBAwIGBgUBAgAEBQICAgAABQEGAQYCAAECBAQAAQECBgACBQMBAgEGAwUEBgQGAgABAQYBAgQGAAEBBAYDBQQFAgAABgQGAwUDAAEEBAACAAECBgEGAgAGBgMGBgQAAQAFBgEFBAEBAQYBBgEGAAQBBAAAAAUBAQEFBQQCBAEEBgUCBAUEBgUBAgUABgQBBAABAAQEBQIAAQAFAAQBAgYGBQUFBAYFAAAAAAUAAQAFAAUCAQEFAgEFAwYAAgEBBQAAAQYGBgYAAQEBAgUCBgABBQABBgEAAgADAgEEBQAEBgUBBAYEAAAGAAEAAgUGAQAEBgYABgEDAgEFBgQAAAAAAAAEBgIBAQUDAQQBAgYDAAUGBQYEAAUBAgABBgYBBgAAAAEEBgMBBAEAAQAGAgACBQAAAAEFAAIABQYCBQEEBQEABAIBBgYCAgAEAQYGAQMFAgIABgUBAgUBBgQCAQEAAwIBBAUABgUBAAYAAgMBAQIGBAE=",
          "dtype": "i1"
         },
         "y0": " ",
         "yaxis": "y"
        }
       ],
       "layout": {
        "boxmode": "group",
        "legend": {
         "tracegroupgap": 0
        },
        "template": {
         "data": {
          "bar": [
           {
            "error_x": {
             "color": "#2a3f5f"
            },
            "error_y": {
             "color": "#2a3f5f"
            },
            "marker": {
             "line": {
              "color": "#E5ECF6",
              "width": 0.5
             },
             "pattern": {
              "fillmode": "overlay",
              "size": 10,
              "solidity": 0.2
             }
            },
            "type": "bar"
           }
          ],
          "barpolar": [
           {
            "marker": {
             "line": {
              "color": "#E5ECF6",
              "width": 0.5
             },
             "pattern": {
              "fillmode": "overlay",
              "size": 10,
              "solidity": 0.2
             }
            },
            "type": "barpolar"
           }
          ],
          "carpet": [
           {
            "aaxis": {
             "endlinecolor": "#2a3f5f",
             "gridcolor": "white",
             "linecolor": "white",
             "minorgridcolor": "white",
             "startlinecolor": "#2a3f5f"
            },
            "baxis": {
             "endlinecolor": "#2a3f5f",
             "gridcolor": "white",
             "linecolor": "white",
             "minorgridcolor": "white",
             "startlinecolor": "#2a3f5f"
            },
            "type": "carpet"
           }
          ],
          "choropleth": [
           {
            "colorbar": {
             "outlinewidth": 0,
             "ticks": ""
            },
            "type": "choropleth"
           }
          ],
          "contour": [
           {
            "colorbar": {
             "outlinewidth": 0,
             "ticks": ""
            },
            "colorscale": [
             [
              0,
              "#0d0887"
             ],
             [
              0.1111111111111111,
              "#46039f"
             ],
             [
              0.2222222222222222,
              "#7201a8"
             ],
             [
              0.3333333333333333,
              "#9c179e"
             ],
             [
              0.4444444444444444,
              "#bd3786"
             ],
             [
              0.5555555555555556,
              "#d8576b"
             ],
             [
              0.6666666666666666,
              "#ed7953"
             ],
             [
              0.7777777777777778,
              "#fb9f3a"
             ],
             [
              0.8888888888888888,
              "#fdca26"
             ],
             [
              1,
              "#f0f921"
             ]
            ],
            "type": "contour"
           }
          ],
          "contourcarpet": [
           {
            "colorbar": {
             "outlinewidth": 0,
             "ticks": ""
            },
            "type": "contourcarpet"
           }
          ],
          "heatmap": [
           {
            "colorbar": {
             "outlinewidth": 0,
             "ticks": ""
            },
            "colorscale": [
             [
              0,
              "#0d0887"
             ],
             [
              0.1111111111111111,
              "#46039f"
             ],
             [
              0.2222222222222222,
              "#7201a8"
             ],
             [
              0.3333333333333333,
              "#9c179e"
             ],
             [
              0.4444444444444444,
              "#bd3786"
             ],
             [
              0.5555555555555556,
              "#d8576b"
             ],
             [
              0.6666666666666666,
              "#ed7953"
             ],
             [
              0.7777777777777778,
              "#fb9f3a"
             ],
             [
              0.8888888888888888,
              "#fdca26"
             ],
             [
              1,
              "#f0f921"
             ]
            ],
            "type": "heatmap"
           }
          ],
          "histogram": [
           {
            "marker": {
             "pattern": {
              "fillmode": "overlay",
              "size": 10,
              "solidity": 0.2
             }
            },
            "type": "histogram"
           }
          ],
          "histogram2d": [
           {
            "colorbar": {
             "outlinewidth": 0,
             "ticks": ""
            },
            "colorscale": [
             [
              0,
              "#0d0887"
             ],
             [
              0.1111111111111111,
              "#46039f"
             ],
             [
              0.2222222222222222,
              "#7201a8"
             ],
             [
              0.3333333333333333,
              "#9c179e"
             ],
             [
              0.4444444444444444,
              "#bd3786"
             ],
             [
              0.5555555555555556,
              "#d8576b"
             ],
             [
              0.6666666666666666,
              "#ed7953"
             ],
             [
              0.7777777777777778,
              "#fb9f3a"
             ],
             [
              0.8888888888888888,
              "#fdca26"
             ],
             [
              1,
              "#f0f921"
             ]
            ],
            "type": "histogram2d"
           }
          ],
          "histogram2dcontour": [
           {
            "colorbar": {
             "outlinewidth": 0,
             "ticks": ""
            },
            "colorscale": [
             [
              0,
              "#0d0887"
             ],
             [
              0.1111111111111111,
              "#46039f"
             ],
             [
              0.2222222222222222,
              "#7201a8"
             ],
             [
              0.3333333333333333,
              "#9c179e"
             ],
             [
              0.4444444444444444,
              "#bd3786"
             ],
             [
              0.5555555555555556,
              "#d8576b"
             ],
             [
              0.6666666666666666,
              "#ed7953"
             ],
             [
              0.7777777777777778,
              "#fb9f3a"
             ],
             [
              0.8888888888888888,
              "#fdca26"
             ],
             [
              1,
              "#f0f921"
             ]
            ],
            "type": "histogram2dcontour"
           }
          ],
          "mesh3d": [
           {
            "colorbar": {
             "outlinewidth": 0,
             "ticks": ""
            },
            "type": "mesh3d"
           }
          ],
          "parcoords": [
           {
            "line": {
             "colorbar": {
              "outlinewidth": 0,
              "ticks": ""
             }
            },
            "type": "parcoords"
           }
          ],
          "pie": [
           {
            "automargin": true,
            "type": "pie"
           }
          ],
          "scatter": [
           {
            "fillpattern": {
             "fillmode": "overlay",
             "size": 10,
             "solidity": 0.2
            },
            "type": "scatter"
           }
          ],
          "scatter3d": [
           {
            "line": {
             "colorbar": {
              "outlinewidth": 0,
              "ticks": ""
             }
            },
            "marker": {
             "colorbar": {
              "outlinewidth": 0,
              "ticks": ""
             }
            },
            "type": "scatter3d"
           }
          ],
          "scattercarpet": [
           {
            "marker": {
             "colorbar": {
              "outlinewidth": 0,
              "ticks": ""
             }
            },
            "type": "scattercarpet"
           }
          ],
          "scattergeo": [
           {
            "marker": {
             "colorbar": {
              "outlinewidth": 0,
              "ticks": ""
             }
            },
            "type": "scattergeo"
           }
          ],
          "scattergl": [
           {
            "marker": {
             "colorbar": {
              "outlinewidth": 0,
              "ticks": ""
             }
            },
            "type": "scattergl"
           }
          ],
          "scattermap": [
           {
            "marker": {
             "colorbar": {
              "outlinewidth": 0,
              "ticks": ""
             }
            },
            "type": "scattermap"
           }
          ],
          "scattermapbox": [
           {
            "marker": {
             "colorbar": {
              "outlinewidth": 0,
              "ticks": ""
             }
            },
            "type": "scattermapbox"
           }
          ],
          "scatterpolar": [
           {
            "marker": {
             "colorbar": {
              "outlinewidth": 0,
              "ticks": ""
             }
            },
            "type": "scatterpolar"
           }
          ],
          "scatterpolargl": [
           {
            "marker": {
             "colorbar": {
              "outlinewidth": 0,
              "ticks": ""
             }
            },
            "type": "scatterpolargl"
           }
          ],
          "scatterternary": [
           {
            "marker": {
             "colorbar": {
              "outlinewidth": 0,
              "ticks": ""
             }
            },
            "type": "scatterternary"
           }
          ],
          "surface": [
           {
            "colorbar": {
             "outlinewidth": 0,
             "ticks": ""
            },
            "colorscale": [
             [
              0,
              "#0d0887"
             ],
             [
              0.1111111111111111,
              "#46039f"
             ],
             [
              0.2222222222222222,
              "#7201a8"
             ],
             [
              0.3333333333333333,
              "#9c179e"
             ],
             [
              0.4444444444444444,
              "#bd3786"
             ],
             [
              0.5555555555555556,
              "#d8576b"
             ],
             [
              0.6666666666666666,
              "#ed7953"
             ],
             [
              0.7777777777777778,
              "#fb9f3a"
             ],
             [
              0.8888888888888888,
              "#fdca26"
             ],
             [
              1,
              "#f0f921"
             ]
            ],
            "type": "surface"
           }
          ],
          "table": [
           {
            "cells": {
             "fill": {
              "color": "#EBF0F8"
             },
             "line": {
              "color": "white"
             }
            },
            "header": {
             "fill": {
              "color": "#C8D4E3"
             },
             "line": {
              "color": "white"
             }
            },
            "type": "table"
           }
          ]
         },
         "layout": {
          "annotationdefaults": {
           "arrowcolor": "#2a3f5f",
           "arrowhead": 0,
           "arrowwidth": 1
          },
          "autotypenumbers": "strict",
          "coloraxis": {
           "colorbar": {
            "outlinewidth": 0,
            "ticks": ""
           }
          },
          "colorscale": {
           "diverging": [
            [
             0,
             "#8e0152"
            ],
            [
             0.1,
             "#c51b7d"
            ],
            [
             0.2,
             "#de77ae"
            ],
            [
             0.3,
             "#f1b6da"
            ],
            [
             0.4,
             "#fde0ef"
            ],
            [
             0.5,
             "#f7f7f7"
            ],
            [
             0.6,
             "#e6f5d0"
            ],
            [
             0.7,
             "#b8e186"
            ],
            [
             0.8,
             "#7fbc41"
            ],
            [
             0.9,
             "#4d9221"
            ],
            [
             1,
             "#276419"
            ]
           ],
           "sequential": [
            [
             0,
             "#0d0887"
            ],
            [
             0.1111111111111111,
             "#46039f"
            ],
            [
             0.2222222222222222,
             "#7201a8"
            ],
            [
             0.3333333333333333,
             "#9c179e"
            ],
            [
             0.4444444444444444,
             "#bd3786"
            ],
            [
             0.5555555555555556,
             "#d8576b"
            ],
            [
             0.6666666666666666,
             "#ed7953"
            ],
            [
             0.7777777777777778,
             "#fb9f3a"
            ],
            [
             0.8888888888888888,
             "#fdca26"
            ],
            [
             1,
             "#f0f921"
            ]
           ],
           "sequentialminus": [
            [
             0,
             "#0d0887"
            ],
            [
             0.1111111111111111,
             "#46039f"
            ],
            [
             0.2222222222222222,
             "#7201a8"
            ],
            [
             0.3333333333333333,
             "#9c179e"
            ],
            [
             0.4444444444444444,
             "#bd3786"
            ],
            [
             0.5555555555555556,
             "#d8576b"
            ],
            [
             0.6666666666666666,
             "#ed7953"
            ],
            [
             0.7777777777777778,
             "#fb9f3a"
            ],
            [
             0.8888888888888888,
             "#fdca26"
            ],
            [
             1,
             "#f0f921"
            ]
           ]
          },
          "colorway": [
           "#636efa",
           "#EF553B",
           "#00cc96",
           "#ab63fa",
           "#FFA15A",
           "#19d3f3",
           "#FF6692",
           "#B6E880",
           "#FF97FF",
           "#FECB52"
          ],
          "font": {
           "color": "#2a3f5f"
          },
          "geo": {
           "bgcolor": "white",
           "lakecolor": "white",
           "landcolor": "#E5ECF6",
           "showlakes": true,
           "showland": true,
           "subunitcolor": "white"
          },
          "hoverlabel": {
           "align": "left"
          },
          "hovermode": "closest",
          "mapbox": {
           "style": "light"
          },
          "paper_bgcolor": "white",
          "plot_bgcolor": "#E5ECF6",
          "polar": {
           "angularaxis": {
            "gridcolor": "white",
            "linecolor": "white",
            "ticks": ""
           },
           "bgcolor": "#E5ECF6",
           "radialaxis": {
            "gridcolor": "white",
            "linecolor": "white",
            "ticks": ""
           }
          },
          "scene": {
           "xaxis": {
            "backgroundcolor": "#E5ECF6",
            "gridcolor": "white",
            "gridwidth": 2,
            "linecolor": "white",
            "showbackground": true,
            "ticks": "",
            "zerolinecolor": "white"
           },
           "yaxis": {
            "backgroundcolor": "#E5ECF6",
            "gridcolor": "white",
            "gridwidth": 2,
            "linecolor": "white",
            "showbackground": true,
            "ticks": "",
            "zerolinecolor": "white"
           },
           "zaxis": {
            "backgroundcolor": "#E5ECF6",
            "gridcolor": "white",
            "gridwidth": 2,
            "linecolor": "white",
            "showbackground": true,
            "ticks": "",
            "zerolinecolor": "white"
           }
          },
          "shapedefaults": {
           "line": {
            "color": "#2a3f5f"
           }
          },
          "ternary": {
           "aaxis": {
            "gridcolor": "white",
            "linecolor": "white",
            "ticks": ""
           },
           "baxis": {
            "gridcolor": "white",
            "linecolor": "white",
            "ticks": ""
           },
           "bgcolor": "#E5ECF6",
           "caxis": {
            "gridcolor": "white",
            "linecolor": "white",
            "ticks": ""
           }
          },
          "title": {
           "x": 0.05
          },
          "xaxis": {
           "automargin": true,
           "gridcolor": "white",
           "linecolor": "white",
           "ticks": "",
           "title": {
            "standoff": 15
           },
           "zerolinecolor": "white",
           "zerolinewidth": 2
          },
          "yaxis": {
           "automargin": true,
           "gridcolor": "white",
           "linecolor": "white",
           "ticks": "",
           "title": {
            "standoff": 15
           },
           "zerolinecolor": "white",
           "zerolinewidth": 2
          }
         }
        },
        "title": {
         "text": "VOC by Failure"
        },
        "xaxis": {
         "anchor": "y",
         "domain": [
          0,
          1
         ],
         "title": {
          "text": "fail"
         }
        },
        "yaxis": {
         "anchor": "x",
         "domain": [
          0,
          1
         ],
         "title": {
          "text": "VOC"
         }
        }
       }
      }
     },
     "metadata": {},
     "output_type": "display_data"
    },
    {
     "data": {
      "application/vnd.plotly.v1+json": {
       "config": {
        "plotlyServerURL": "https://plot.ly"
       },
       "data": [
        {
         "alignmentgroup": "True",
         "hovertemplate": "fail=%{x}<br>AQ=%{y}<extra></extra>",
         "legendgroup": "",
         "marker": {
          "color": "#636efa"
         },
         "name": "",
         "notched": false,
         "offsetgroup": "",
         "orientation": "v",
         "showlegend": false,
         "type": "box",
         "x": {
          "bdata": "AQABAQEAAAEBAQAAAAEAAQABAAAAAAABAAABAAAAAAABAAAAAAEAAAEBAAEAAAAAAAEAAQAAAQABAQABAAAAAQEBAAAAAAABAAAAAQEBAAEAAAABAQEBAAEAAAEAAAAAAQAAAQAAAQEBAAAAAQABAAEAAQAAAAAAAQAAAQEAAQEAAAAAAQAAAAEAAQAAAQEAAAABAAAAAAEBAQABAAEBAQEAAAABAAEBAQEAAAEBAAEBAQABAQAAAAABAAAAAQEAAQABAAEAAAAAAAAAAQABAQEBAQEAAQABAAABAAEAAAABAQAAAAAAAAEBAAAAAAABAAAAAQABAAEBAAAAAQEAAQEAAAAAAAAAAAEAAAABAQABAQAAAAEBAAABAAAAAAEBAQABAAEBAQABAAAAAQAAAAABAAEBAQEBAAAAAAAAAAEBAAAAAQEAAAAAAQAAAAAAAQEAAQEBAQABAAAAAAEBAQABAAEAAAAAAQEAAQABAQABAQAAAAAAAAAAAAAAAQEAAAABAQEAAAABAQAAAAAAAQABAAEAAAAAAQEAAAAAAQABAQAAAAABAAEBAQEBAAAAAAEAAAABAAAAAQEAAQEBAAAAAQEBAAEAAAABAQAAAAAAAQABAAABAQEBAQEAAAABAQABAQAAAAEAAQABAAEAAQAAAAEAAAABAQAAAQABAQEAAQEBAQEAAQEAAQEAAAAAAAEBAQAAAAABAAEAAQEBAAEBAQEAAAAAAQEAAAAAAAEAAAABAAABAAEAAAAAAQAAAAEBAQEAAAEAAAAAAQAAAQAAAQAAAAABAAABAQABAQEAAQEBAAABAAAAAAABAAABAQEAAQEAAAABAQAAAAAAAAABAQAAAAEAAAEAAAEAAAEBAQEAAAEAAAAAAAEAAQAAAAABAAAAAQAAAAABAAAAAQAAAAABAAAAAQEAAQAAAQAAAQAAAQEAAAABAAEBAAEAAQAAAQEAAAEAAAEAAAAAAAAAAAEAAQEAAAEAAAEAAAABAQA=",
          "dtype": "i1"
         },
         "x0": " ",
         "xaxis": "x",
         "y": {
          "bdata": "BwQFBQUBAgYGBAIDAgUGBAIEAgMDBAUGBQQGAwMDAwMGBAQEBAYBBAYFBAYDBAIEBAIGBgMBBAMEBgMGBAQDAwYGBAIDAwQEBQEEBAYFBAMEAgQGBwUGAwYEBQQDAQQCBQQEBgICBgcEAgMEBAQGBAYGBgMDAgUEBgQDBQYGBgUFAwMEBgQBBAYFBgMEBQUGBgUEBgIEBgQHBAYEBQUFAwYEBAMGAgYFBAUGAwUEAwYGBQMGBgMCAgMFAwQFBgUCBgUFAQcFAwQDAgQEBgQEBAYEBwcEBwIFAwMGBAYDAgUFBQQEAwQFBAYGBwIDAwQFBgIEBAMGBAUGAwUHBgUDBAEEAwYDBAMCAgYFBgUGBAMFBQMCBAUEBAUDBQIDBwYFBgQGBQYGBgQGBAQFBQIDBAQFBQYGBgQFBQIDBgMCBAMEBQMCBAYCAQYCBgQFBQUDBAYEBAYFBgIFAwUDBAUFBQQGBAYDAgICBgYCBgQGBwMGBgMCAwQEBAIDAgYBAgYEBwUGBgMCBQIGBgQGAgYDBgQGBAYEBAMCBgQGAwIEBQMFBwQDAQIHBAcGBgUGBAIDBAYEAwQGBAUDBQYEBQYFBAUCBgQGBAYEAwQGBgMCBAUGBgQGAwMGBQQGBgUCAQMGBAIGBAUEBQYCBgUEBAQEBgcDBAUEBgQFBQQFBwIFBgYDBgUFBgYDAwYEBAQDAwEEBgQGBQIDBAMEBQUDBAYGBAQDBgYGAwQEBAQCAwIDBAUDBQYGBAIGBQYEBQIEBQMCBAQGBQYCBAQEBAQFBQMDBQIGBgMBAwUEAwQGBQMGBgUDBgYFBAQGBQQEBAUFBAQEBgYFBAUCBAIFBwcCBAIFBAUEBgUGBAQEAwYCBAcEAgQGBAUFBgUFBQQDBgYDBwQEBQMFAgQBBwYDBAIEBAQCAwQFBAQGAwQHBgYDBQUEBAMCBAIEBgYDAwYGBAYGAQUFBAIEBgQEBAYDBQUEBAQEAgQFBAQGBwYEAgQCBAUCBAUGBAQ=",
          "dtype": "i1"
         },
         "y0": " ",
         "yaxis": "y"
        }
       ],
       "layout": {
        "boxmode": "group",
        "legend": {
         "tracegroupgap": 0
        },
        "template": {
         "data": {
          "bar": [
           {
            "error_x": {
             "color": "#2a3f5f"
            },
            "error_y": {
             "color": "#2a3f5f"
            },
            "marker": {
             "line": {
              "color": "#E5ECF6",
              "width": 0.5
             },
             "pattern": {
              "fillmode": "overlay",
              "size": 10,
              "solidity": 0.2
             }
            },
            "type": "bar"
           }
          ],
          "barpolar": [
           {
            "marker": {
             "line": {
              "color": "#E5ECF6",
              "width": 0.5
             },
             "pattern": {
              "fillmode": "overlay",
              "size": 10,
              "solidity": 0.2
             }
            },
            "type": "barpolar"
           }
          ],
          "carpet": [
           {
            "aaxis": {
             "endlinecolor": "#2a3f5f",
             "gridcolor": "white",
             "linecolor": "white",
             "minorgridcolor": "white",
             "startlinecolor": "#2a3f5f"
            },
            "baxis": {
             "endlinecolor": "#2a3f5f",
             "gridcolor": "white",
             "linecolor": "white",
             "minorgridcolor": "white",
             "startlinecolor": "#2a3f5f"
            },
            "type": "carpet"
           }
          ],
          "choropleth": [
           {
            "colorbar": {
             "outlinewidth": 0,
             "ticks": ""
            },
            "type": "choropleth"
           }
          ],
          "contour": [
           {
            "colorbar": {
             "outlinewidth": 0,
             "ticks": ""
            },
            "colorscale": [
             [
              0,
              "#0d0887"
             ],
             [
              0.1111111111111111,
              "#46039f"
             ],
             [
              0.2222222222222222,
              "#7201a8"
             ],
             [
              0.3333333333333333,
              "#9c179e"
             ],
             [
              0.4444444444444444,
              "#bd3786"
             ],
             [
              0.5555555555555556,
              "#d8576b"
             ],
             [
              0.6666666666666666,
              "#ed7953"
             ],
             [
              0.7777777777777778,
              "#fb9f3a"
             ],
             [
              0.8888888888888888,
              "#fdca26"
             ],
             [
              1,
              "#f0f921"
             ]
            ],
            "type": "contour"
           }
          ],
          "contourcarpet": [
           {
            "colorbar": {
             "outlinewidth": 0,
             "ticks": ""
            },
            "type": "contourcarpet"
           }
          ],
          "heatmap": [
           {
            "colorbar": {
             "outlinewidth": 0,
             "ticks": ""
            },
            "colorscale": [
             [
              0,
              "#0d0887"
             ],
             [
              0.1111111111111111,
              "#46039f"
             ],
             [
              0.2222222222222222,
              "#7201a8"
             ],
             [
              0.3333333333333333,
              "#9c179e"
             ],
             [
              0.4444444444444444,
              "#bd3786"
             ],
             [
              0.5555555555555556,
              "#d8576b"
             ],
             [
              0.6666666666666666,
              "#ed7953"
             ],
             [
              0.7777777777777778,
              "#fb9f3a"
             ],
             [
              0.8888888888888888,
              "#fdca26"
             ],
             [
              1,
              "#f0f921"
             ]
            ],
            "type": "heatmap"
           }
          ],
          "histogram": [
           {
            "marker": {
             "pattern": {
              "fillmode": "overlay",
              "size": 10,
              "solidity": 0.2
             }
            },
            "type": "histogram"
           }
          ],
          "histogram2d": [
           {
            "colorbar": {
             "outlinewidth": 0,
             "ticks": ""
            },
            "colorscale": [
             [
              0,
              "#0d0887"
             ],
             [
              0.1111111111111111,
              "#46039f"
             ],
             [
              0.2222222222222222,
              "#7201a8"
             ],
             [
              0.3333333333333333,
              "#9c179e"
             ],
             [
              0.4444444444444444,
              "#bd3786"
             ],
             [
              0.5555555555555556,
              "#d8576b"
             ],
             [
              0.6666666666666666,
              "#ed7953"
             ],
             [
              0.7777777777777778,
              "#fb9f3a"
             ],
             [
              0.8888888888888888,
              "#fdca26"
             ],
             [
              1,
              "#f0f921"
             ]
            ],
            "type": "histogram2d"
           }
          ],
          "histogram2dcontour": [
           {
            "colorbar": {
             "outlinewidth": 0,
             "ticks": ""
            },
            "colorscale": [
             [
              0,
              "#0d0887"
             ],
             [
              0.1111111111111111,
              "#46039f"
             ],
             [
              0.2222222222222222,
              "#7201a8"
             ],
             [
              0.3333333333333333,
              "#9c179e"
             ],
             [
              0.4444444444444444,
              "#bd3786"
             ],
             [
              0.5555555555555556,
              "#d8576b"
             ],
             [
              0.6666666666666666,
              "#ed7953"
             ],
             [
              0.7777777777777778,
              "#fb9f3a"
             ],
             [
              0.8888888888888888,
              "#fdca26"
             ],
             [
              1,
              "#f0f921"
             ]
            ],
            "type": "histogram2dcontour"
           }
          ],
          "mesh3d": [
           {
            "colorbar": {
             "outlinewidth": 0,
             "ticks": ""
            },
            "type": "mesh3d"
           }
          ],
          "parcoords": [
           {
            "line": {
             "colorbar": {
              "outlinewidth": 0,
              "ticks": ""
             }
            },
            "type": "parcoords"
           }
          ],
          "pie": [
           {
            "automargin": true,
            "type": "pie"
           }
          ],
          "scatter": [
           {
            "fillpattern": {
             "fillmode": "overlay",
             "size": 10,
             "solidity": 0.2
            },
            "type": "scatter"
           }
          ],
          "scatter3d": [
           {
            "line": {
             "colorbar": {
              "outlinewidth": 0,
              "ticks": ""
             }
            },
            "marker": {
             "colorbar": {
              "outlinewidth": 0,
              "ticks": ""
             }
            },
            "type": "scatter3d"
           }
          ],
          "scattercarpet": [
           {
            "marker": {
             "colorbar": {
              "outlinewidth": 0,
              "ticks": ""
             }
            },
            "type": "scattercarpet"
           }
          ],
          "scattergeo": [
           {
            "marker": {
             "colorbar": {
              "outlinewidth": 0,
              "ticks": ""
             }
            },
            "type": "scattergeo"
           }
          ],
          "scattergl": [
           {
            "marker": {
             "colorbar": {
              "outlinewidth": 0,
              "ticks": ""
             }
            },
            "type": "scattergl"
           }
          ],
          "scattermap": [
           {
            "marker": {
             "colorbar": {
              "outlinewidth": 0,
              "ticks": ""
             }
            },
            "type": "scattermap"
           }
          ],
          "scattermapbox": [
           {
            "marker": {
             "colorbar": {
              "outlinewidth": 0,
              "ticks": ""
             }
            },
            "type": "scattermapbox"
           }
          ],
          "scatterpolar": [
           {
            "marker": {
             "colorbar": {
              "outlinewidth": 0,
              "ticks": ""
             }
            },
            "type": "scatterpolar"
           }
          ],
          "scatterpolargl": [
           {
            "marker": {
             "colorbar": {
              "outlinewidth": 0,
              "ticks": ""
             }
            },
            "type": "scatterpolargl"
           }
          ],
          "scatterternary": [
           {
            "marker": {
             "colorbar": {
              "outlinewidth": 0,
              "ticks": ""
             }
            },
            "type": "scatterternary"
           }
          ],
          "surface": [
           {
            "colorbar": {
             "outlinewidth": 0,
             "ticks": ""
            },
            "colorscale": [
             [
              0,
              "#0d0887"
             ],
             [
              0.1111111111111111,
              "#46039f"
             ],
             [
              0.2222222222222222,
              "#7201a8"
             ],
             [
              0.3333333333333333,
              "#9c179e"
             ],
             [
              0.4444444444444444,
              "#bd3786"
             ],
             [
              0.5555555555555556,
              "#d8576b"
             ],
             [
              0.6666666666666666,
              "#ed7953"
             ],
             [
              0.7777777777777778,
              "#fb9f3a"
             ],
             [
              0.8888888888888888,
              "#fdca26"
             ],
             [
              1,
              "#f0f921"
             ]
            ],
            "type": "surface"
           }
          ],
          "table": [
           {
            "cells": {
             "fill": {
              "color": "#EBF0F8"
             },
             "line": {
              "color": "white"
             }
            },
            "header": {
             "fill": {
              "color": "#C8D4E3"
             },
             "line": {
              "color": "white"
             }
            },
            "type": "table"
           }
          ]
         },
         "layout": {
          "annotationdefaults": {
           "arrowcolor": "#2a3f5f",
           "arrowhead": 0,
           "arrowwidth": 1
          },
          "autotypenumbers": "strict",
          "coloraxis": {
           "colorbar": {
            "outlinewidth": 0,
            "ticks": ""
           }
          },
          "colorscale": {
           "diverging": [
            [
             0,
             "#8e0152"
            ],
            [
             0.1,
             "#c51b7d"
            ],
            [
             0.2,
             "#de77ae"
            ],
            [
             0.3,
             "#f1b6da"
            ],
            [
             0.4,
             "#fde0ef"
            ],
            [
             0.5,
             "#f7f7f7"
            ],
            [
             0.6,
             "#e6f5d0"
            ],
            [
             0.7,
             "#b8e186"
            ],
            [
             0.8,
             "#7fbc41"
            ],
            [
             0.9,
             "#4d9221"
            ],
            [
             1,
             "#276419"
            ]
           ],
           "sequential": [
            [
             0,
             "#0d0887"
            ],
            [
             0.1111111111111111,
             "#46039f"
            ],
            [
             0.2222222222222222,
             "#7201a8"
            ],
            [
             0.3333333333333333,
             "#9c179e"
            ],
            [
             0.4444444444444444,
             "#bd3786"
            ],
            [
             0.5555555555555556,
             "#d8576b"
            ],
            [
             0.6666666666666666,
             "#ed7953"
            ],
            [
             0.7777777777777778,
             "#fb9f3a"
            ],
            [
             0.8888888888888888,
             "#fdca26"
            ],
            [
             1,
             "#f0f921"
            ]
           ],
           "sequentialminus": [
            [
             0,
             "#0d0887"
            ],
            [
             0.1111111111111111,
             "#46039f"
            ],
            [
             0.2222222222222222,
             "#7201a8"
            ],
            [
             0.3333333333333333,
             "#9c179e"
            ],
            [
             0.4444444444444444,
             "#bd3786"
            ],
            [
             0.5555555555555556,
             "#d8576b"
            ],
            [
             0.6666666666666666,
             "#ed7953"
            ],
            [
             0.7777777777777778,
             "#fb9f3a"
            ],
            [
             0.8888888888888888,
             "#fdca26"
            ],
            [
             1,
             "#f0f921"
            ]
           ]
          },
          "colorway": [
           "#636efa",
           "#EF553B",
           "#00cc96",
           "#ab63fa",
           "#FFA15A",
           "#19d3f3",
           "#FF6692",
           "#B6E880",
           "#FF97FF",
           "#FECB52"
          ],
          "font": {
           "color": "#2a3f5f"
          },
          "geo": {
           "bgcolor": "white",
           "lakecolor": "white",
           "landcolor": "#E5ECF6",
           "showlakes": true,
           "showland": true,
           "subunitcolor": "white"
          },
          "hoverlabel": {
           "align": "left"
          },
          "hovermode": "closest",
          "mapbox": {
           "style": "light"
          },
          "paper_bgcolor": "white",
          "plot_bgcolor": "#E5ECF6",
          "polar": {
           "angularaxis": {
            "gridcolor": "white",
            "linecolor": "white",
            "ticks": ""
           },
           "bgcolor": "#E5ECF6",
           "radialaxis": {
            "gridcolor": "white",
            "linecolor": "white",
            "ticks": ""
           }
          },
          "scene": {
           "xaxis": {
            "backgroundcolor": "#E5ECF6",
            "gridcolor": "white",
            "gridwidth": 2,
            "linecolor": "white",
            "showbackground": true,
            "ticks": "",
            "zerolinecolor": "white"
           },
           "yaxis": {
            "backgroundcolor": "#E5ECF6",
            "gridcolor": "white",
            "gridwidth": 2,
            "linecolor": "white",
            "showbackground": true,
            "ticks": "",
            "zerolinecolor": "white"
           },
           "zaxis": {
            "backgroundcolor": "#E5ECF6",
            "gridcolor": "white",
            "gridwidth": 2,
            "linecolor": "white",
            "showbackground": true,
            "ticks": "",
            "zerolinecolor": "white"
           }
          },
          "shapedefaults": {
           "line": {
            "color": "#2a3f5f"
           }
          },
          "ternary": {
           "aaxis": {
            "gridcolor": "white",
            "linecolor": "white",
            "ticks": ""
           },
           "baxis": {
            "gridcolor": "white",
            "linecolor": "white",
            "ticks": ""
           },
           "bgcolor": "#E5ECF6",
           "caxis": {
            "gridcolor": "white",
            "linecolor": "white",
            "ticks": ""
           }
          },
          "title": {
           "x": 0.05
          },
          "xaxis": {
           "automargin": true,
           "gridcolor": "white",
           "linecolor": "white",
           "ticks": "",
           "title": {
            "standoff": 15
           },
           "zerolinecolor": "white",
           "zerolinewidth": 2
          },
          "yaxis": {
           "automargin": true,
           "gridcolor": "white",
           "linecolor": "white",
           "ticks": "",
           "title": {
            "standoff": 15
           },
           "zerolinecolor": "white",
           "zerolinewidth": 2
          }
         }
        },
        "title": {
         "text": "AQ by Failure"
        },
        "xaxis": {
         "anchor": "y",
         "domain": [
          0,
          1
         ],
         "title": {
          "text": "fail"
         }
        },
        "yaxis": {
         "anchor": "x",
         "domain": [
          0,
          1
         ],
         "title": {
          "text": "AQ"
         }
        }
       }
      }
     },
     "metadata": {},
     "output_type": "display_data"
    },
    {
     "data": {
      "application/vnd.plotly.v1+json": {
       "config": {
        "plotlyServerURL": "https://plot.ly"
       },
       "data": [
        {
         "alignmentgroup": "True",
         "hovertemplate": "fail=%{x}<br>USS=%{y}<extra></extra>",
         "legendgroup": "",
         "marker": {
          "color": "#636efa"
         },
         "name": "",
         "notched": false,
         "offsetgroup": "",
         "orientation": "v",
         "showlegend": false,
         "type": "box",
         "x": {
          "bdata": "AQABAQEAAAEBAQAAAAEAAQABAAAAAAABAAABAAAAAAABAAAAAAEAAAEBAAEAAAAAAAEAAQAAAQABAQABAAAAAQEBAAAAAAABAAAAAQEBAAEAAAABAQEBAAEAAAEAAAAAAQAAAQAAAQEBAAAAAQABAAEAAQAAAAAAAQAAAQEAAQEAAAAAAQAAAAEAAQAAAQEAAAABAAAAAAEBAQABAAEBAQEAAAABAAEBAQEAAAEBAAEBAQABAQAAAAABAAAAAQEAAQABAAEAAAAAAAAAAQABAQEBAQEAAQABAAABAAEAAAABAQAAAAAAAAEBAAAAAAABAAAAAQABAAEBAAAAAQEAAQEAAAAAAAAAAAEAAAABAQABAQAAAAEBAAABAAAAAAEBAQABAAEBAQABAAAAAQAAAAABAAEBAQEBAAAAAAAAAAEBAAAAAQEAAAAAAQAAAAAAAQEAAQEBAQABAAAAAAEBAQABAAEAAAAAAQEAAQABAQABAQAAAAAAAAAAAAAAAQEAAAABAQEAAAABAQAAAAAAAQABAAEAAAAAAQEAAAAAAQABAQAAAAABAAEBAQEBAAAAAAEAAAABAAAAAQEAAQEBAAAAAQEBAAEAAAABAQAAAAAAAQABAAABAQEBAQEAAAABAQABAQAAAAEAAQABAAEAAQAAAAEAAAABAQAAAQABAQEAAQEBAQEAAQEAAQEAAAAAAAEBAQAAAAABAAEAAQEBAAEBAQEAAAAAAQEAAAAAAAEAAAABAAABAAEAAAAAAQAAAAEBAQEAAAEAAAAAAQAAAQAAAQAAAAABAAABAQABAQEAAQEBAAABAAAAAAABAAABAQEAAQEAAAABAQAAAAAAAAABAQAAAAEAAAEAAAEAAAEBAQEAAAEAAAAAAAEAAQAAAAABAAAAAQAAAAABAAAAAQAAAAABAAAAAQEAAQAAAQAAAQAAAQEAAAABAAEBAAEAAQAAAQEAAAEAAAEAAAAAAAAAAAEAAQEAAAEAAAEAAAABAQA=",
          "dtype": "i1"
         },
         "x0": " ",
         "xaxis": "x",
         "y": {
          "bdata": "AQMDAQIEAgECAgIEBAIGAgQDAwUDAwICBAMEAgMBAwICBQQEBwIDBAMCBQMDAgIGBQQFAwQEAQMCAwQCAgMEAgMBAgQDAQQCBAIEAgECBQUEBAMCAQIDAwMDAgUEAQICAQICAQICAwEBAwIDAwQCBgIFAwMDAwQFAgQFAwEDBAIFAgMFAgUDBAEGAgQEAgUEAwYEBwIFBwIBBAQDBgECBAEDAgIEAwICAQQHAgIDAwICAgQCAgICBAMEAwUEBQQCAgMCAQMHAwQGAwQEAgQFAgICAgIGAwMCAwMCBgEEAgQCAgQDBAMDAwICBwMCAwYCBAEDAgICAgICBgMCAgIDAgQGAgcEAgICAgEEBwICAQUDAwMCBgEBBQMCBAEGBgICAgMBAgICAgQCAwYCAgIDBAICAgICAQMCAwQCBAICAwQCBAQCAgECAQMDAwQDAgQEAwEGAgICBAMCAwUEBAMCAQQDBAEDBQIBAgEEAgICAgUCAgMDAwQCBgMDAwQDBAECBwMBAQQDAwQCAQIGAwMDAgQCBAICBAMDAgEHBAIGAQIEAgMEAgQCAwECAQEBAwMCAgIFAwECBAIDAwIDAwQEBQQCAQIBBAEGAgMCAQQDBAQFAQUBBAMCAQECAgQDBQUDAgMBAgYDBgMCAgMBBQIEAgcGBAMCAwMBAgUDAQICAgIEAwMCAQEDAwMEAgIEBQIDAwIEAgMDAwQCBAIDAwEBAgQCAgIFAwQHBAMEBAIFAwICBQQCBQIDAgIDAgMGAgQEBAUCAgIDAwMEAwQCAgMEAgQFAgMCAgYBAgQCAgMCAgMDAQECBgQBAgEDBAQBAwYCAwIDAgIDBAMBAwMCBgIHBAUDAQIEBwQDAwMEBAEDAwMCBgIDBgEDAgICAgECAQMDAwMBAwUCBQUEAwMDAgMDAQYGBAUBBAIBAgICAgUDBQUDAgICAQIDBAQDAwICAgIFBQQCAgIFBAIDAwIDAgIDAgQFAgIFAQIEAwICBAMDBQIDAgU=",
          "dtype": "i1"
         },
         "y0": " ",
         "yaxis": "y"
        }
       ],
       "layout": {
        "boxmode": "group",
        "legend": {
         "tracegroupgap": 0
        },
        "template": {
         "data": {
          "bar": [
           {
            "error_x": {
             "color": "#2a3f5f"
            },
            "error_y": {
             "color": "#2a3f5f"
            },
            "marker": {
             "line": {
              "color": "#E5ECF6",
              "width": 0.5
             },
             "pattern": {
              "fillmode": "overlay",
              "size": 10,
              "solidity": 0.2
             }
            },
            "type": "bar"
           }
          ],
          "barpolar": [
           {
            "marker": {
             "line": {
              "color": "#E5ECF6",
              "width": 0.5
             },
             "pattern": {
              "fillmode": "overlay",
              "size": 10,
              "solidity": 0.2
             }
            },
            "type": "barpolar"
           }
          ],
          "carpet": [
           {
            "aaxis": {
             "endlinecolor": "#2a3f5f",
             "gridcolor": "white",
             "linecolor": "white",
             "minorgridcolor": "white",
             "startlinecolor": "#2a3f5f"
            },
            "baxis": {
             "endlinecolor": "#2a3f5f",
             "gridcolor": "white",
             "linecolor": "white",
             "minorgridcolor": "white",
             "startlinecolor": "#2a3f5f"
            },
            "type": "carpet"
           }
          ],
          "choropleth": [
           {
            "colorbar": {
             "outlinewidth": 0,
             "ticks": ""
            },
            "type": "choropleth"
           }
          ],
          "contour": [
           {
            "colorbar": {
             "outlinewidth": 0,
             "ticks": ""
            },
            "colorscale": [
             [
              0,
              "#0d0887"
             ],
             [
              0.1111111111111111,
              "#46039f"
             ],
             [
              0.2222222222222222,
              "#7201a8"
             ],
             [
              0.3333333333333333,
              "#9c179e"
             ],
             [
              0.4444444444444444,
              "#bd3786"
             ],
             [
              0.5555555555555556,
              "#d8576b"
             ],
             [
              0.6666666666666666,
              "#ed7953"
             ],
             [
              0.7777777777777778,
              "#fb9f3a"
             ],
             [
              0.8888888888888888,
              "#fdca26"
             ],
             [
              1,
              "#f0f921"
             ]
            ],
            "type": "contour"
           }
          ],
          "contourcarpet": [
           {
            "colorbar": {
             "outlinewidth": 0,
             "ticks": ""
            },
            "type": "contourcarpet"
           }
          ],
          "heatmap": [
           {
            "colorbar": {
             "outlinewidth": 0,
             "ticks": ""
            },
            "colorscale": [
             [
              0,
              "#0d0887"
             ],
             [
              0.1111111111111111,
              "#46039f"
             ],
             [
              0.2222222222222222,
              "#7201a8"
             ],
             [
              0.3333333333333333,
              "#9c179e"
             ],
             [
              0.4444444444444444,
              "#bd3786"
             ],
             [
              0.5555555555555556,
              "#d8576b"
             ],
             [
              0.6666666666666666,
              "#ed7953"
             ],
             [
              0.7777777777777778,
              "#fb9f3a"
             ],
             [
              0.8888888888888888,
              "#fdca26"
             ],
             [
              1,
              "#f0f921"
             ]
            ],
            "type": "heatmap"
           }
          ],
          "histogram": [
           {
            "marker": {
             "pattern": {
              "fillmode": "overlay",
              "size": 10,
              "solidity": 0.2
             }
            },
            "type": "histogram"
           }
          ],
          "histogram2d": [
           {
            "colorbar": {
             "outlinewidth": 0,
             "ticks": ""
            },
            "colorscale": [
             [
              0,
              "#0d0887"
             ],
             [
              0.1111111111111111,
              "#46039f"
             ],
             [
              0.2222222222222222,
              "#7201a8"
             ],
             [
              0.3333333333333333,
              "#9c179e"
             ],
             [
              0.4444444444444444,
              "#bd3786"
             ],
             [
              0.5555555555555556,
              "#d8576b"
             ],
             [
              0.6666666666666666,
              "#ed7953"
             ],
             [
              0.7777777777777778,
              "#fb9f3a"
             ],
             [
              0.8888888888888888,
              "#fdca26"
             ],
             [
              1,
              "#f0f921"
             ]
            ],
            "type": "histogram2d"
           }
          ],
          "histogram2dcontour": [
           {
            "colorbar": {
             "outlinewidth": 0,
             "ticks": ""
            },
            "colorscale": [
             [
              0,
              "#0d0887"
             ],
             [
              0.1111111111111111,
              "#46039f"
             ],
             [
              0.2222222222222222,
              "#7201a8"
             ],
             [
              0.3333333333333333,
              "#9c179e"
             ],
             [
              0.4444444444444444,
              "#bd3786"
             ],
             [
              0.5555555555555556,
              "#d8576b"
             ],
             [
              0.6666666666666666,
              "#ed7953"
             ],
             [
              0.7777777777777778,
              "#fb9f3a"
             ],
             [
              0.8888888888888888,
              "#fdca26"
             ],
             [
              1,
              "#f0f921"
             ]
            ],
            "type": "histogram2dcontour"
           }
          ],
          "mesh3d": [
           {
            "colorbar": {
             "outlinewidth": 0,
             "ticks": ""
            },
            "type": "mesh3d"
           }
          ],
          "parcoords": [
           {
            "line": {
             "colorbar": {
              "outlinewidth": 0,
              "ticks": ""
             }
            },
            "type": "parcoords"
           }
          ],
          "pie": [
           {
            "automargin": true,
            "type": "pie"
           }
          ],
          "scatter": [
           {
            "fillpattern": {
             "fillmode": "overlay",
             "size": 10,
             "solidity": 0.2
            },
            "type": "scatter"
           }
          ],
          "scatter3d": [
           {
            "line": {
             "colorbar": {
              "outlinewidth": 0,
              "ticks": ""
             }
            },
            "marker": {
             "colorbar": {
              "outlinewidth": 0,
              "ticks": ""
             }
            },
            "type": "scatter3d"
           }
          ],
          "scattercarpet": [
           {
            "marker": {
             "colorbar": {
              "outlinewidth": 0,
              "ticks": ""
             }
            },
            "type": "scattercarpet"
           }
          ],
          "scattergeo": [
           {
            "marker": {
             "colorbar": {
              "outlinewidth": 0,
              "ticks": ""
             }
            },
            "type": "scattergeo"
           }
          ],
          "scattergl": [
           {
            "marker": {
             "colorbar": {
              "outlinewidth": 0,
              "ticks": ""
             }
            },
            "type": "scattergl"
           }
          ],
          "scattermap": [
           {
            "marker": {
             "colorbar": {
              "outlinewidth": 0,
              "ticks": ""
             }
            },
            "type": "scattermap"
           }
          ],
          "scattermapbox": [
           {
            "marker": {
             "colorbar": {
              "outlinewidth": 0,
              "ticks": ""
             }
            },
            "type": "scattermapbox"
           }
          ],
          "scatterpolar": [
           {
            "marker": {
             "colorbar": {
              "outlinewidth": 0,
              "ticks": ""
             }
            },
            "type": "scatterpolar"
           }
          ],
          "scatterpolargl": [
           {
            "marker": {
             "colorbar": {
              "outlinewidth": 0,
              "ticks": ""
             }
            },
            "type": "scatterpolargl"
           }
          ],
          "scatterternary": [
           {
            "marker": {
             "colorbar": {
              "outlinewidth": 0,
              "ticks": ""
             }
            },
            "type": "scatterternary"
           }
          ],
          "surface": [
           {
            "colorbar": {
             "outlinewidth": 0,
             "ticks": ""
            },
            "colorscale": [
             [
              0,
              "#0d0887"
             ],
             [
              0.1111111111111111,
              "#46039f"
             ],
             [
              0.2222222222222222,
              "#7201a8"
             ],
             [
              0.3333333333333333,
              "#9c179e"
             ],
             [
              0.4444444444444444,
              "#bd3786"
             ],
             [
              0.5555555555555556,
              "#d8576b"
             ],
             [
              0.6666666666666666,
              "#ed7953"
             ],
             [
              0.7777777777777778,
              "#fb9f3a"
             ],
             [
              0.8888888888888888,
              "#fdca26"
             ],
             [
              1,
              "#f0f921"
             ]
            ],
            "type": "surface"
           }
          ],
          "table": [
           {
            "cells": {
             "fill": {
              "color": "#EBF0F8"
             },
             "line": {
              "color": "white"
             }
            },
            "header": {
             "fill": {
              "color": "#C8D4E3"
             },
             "line": {
              "color": "white"
             }
            },
            "type": "table"
           }
          ]
         },
         "layout": {
          "annotationdefaults": {
           "arrowcolor": "#2a3f5f",
           "arrowhead": 0,
           "arrowwidth": 1
          },
          "autotypenumbers": "strict",
          "coloraxis": {
           "colorbar": {
            "outlinewidth": 0,
            "ticks": ""
           }
          },
          "colorscale": {
           "diverging": [
            [
             0,
             "#8e0152"
            ],
            [
             0.1,
             "#c51b7d"
            ],
            [
             0.2,
             "#de77ae"
            ],
            [
             0.3,
             "#f1b6da"
            ],
            [
             0.4,
             "#fde0ef"
            ],
            [
             0.5,
             "#f7f7f7"
            ],
            [
             0.6,
             "#e6f5d0"
            ],
            [
             0.7,
             "#b8e186"
            ],
            [
             0.8,
             "#7fbc41"
            ],
            [
             0.9,
             "#4d9221"
            ],
            [
             1,
             "#276419"
            ]
           ],
           "sequential": [
            [
             0,
             "#0d0887"
            ],
            [
             0.1111111111111111,
             "#46039f"
            ],
            [
             0.2222222222222222,
             "#7201a8"
            ],
            [
             0.3333333333333333,
             "#9c179e"
            ],
            [
             0.4444444444444444,
             "#bd3786"
            ],
            [
             0.5555555555555556,
             "#d8576b"
            ],
            [
             0.6666666666666666,
             "#ed7953"
            ],
            [
             0.7777777777777778,
             "#fb9f3a"
            ],
            [
             0.8888888888888888,
             "#fdca26"
            ],
            [
             1,
             "#f0f921"
            ]
           ],
           "sequentialminus": [
            [
             0,
             "#0d0887"
            ],
            [
             0.1111111111111111,
             "#46039f"
            ],
            [
             0.2222222222222222,
             "#7201a8"
            ],
            [
             0.3333333333333333,
             "#9c179e"
            ],
            [
             0.4444444444444444,
             "#bd3786"
            ],
            [
             0.5555555555555556,
             "#d8576b"
            ],
            [
             0.6666666666666666,
             "#ed7953"
            ],
            [
             0.7777777777777778,
             "#fb9f3a"
            ],
            [
             0.8888888888888888,
             "#fdca26"
            ],
            [
             1,
             "#f0f921"
            ]
           ]
          },
          "colorway": [
           "#636efa",
           "#EF553B",
           "#00cc96",
           "#ab63fa",
           "#FFA15A",
           "#19d3f3",
           "#FF6692",
           "#B6E880",
           "#FF97FF",
           "#FECB52"
          ],
          "font": {
           "color": "#2a3f5f"
          },
          "geo": {
           "bgcolor": "white",
           "lakecolor": "white",
           "landcolor": "#E5ECF6",
           "showlakes": true,
           "showland": true,
           "subunitcolor": "white"
          },
          "hoverlabel": {
           "align": "left"
          },
          "hovermode": "closest",
          "mapbox": {
           "style": "light"
          },
          "paper_bgcolor": "white",
          "plot_bgcolor": "#E5ECF6",
          "polar": {
           "angularaxis": {
            "gridcolor": "white",
            "linecolor": "white",
            "ticks": ""
           },
           "bgcolor": "#E5ECF6",
           "radialaxis": {
            "gridcolor": "white",
            "linecolor": "white",
            "ticks": ""
           }
          },
          "scene": {
           "xaxis": {
            "backgroundcolor": "#E5ECF6",
            "gridcolor": "white",
            "gridwidth": 2,
            "linecolor": "white",
            "showbackground": true,
            "ticks": "",
            "zerolinecolor": "white"
           },
           "yaxis": {
            "backgroundcolor": "#E5ECF6",
            "gridcolor": "white",
            "gridwidth": 2,
            "linecolor": "white",
            "showbackground": true,
            "ticks": "",
            "zerolinecolor": "white"
           },
           "zaxis": {
            "backgroundcolor": "#E5ECF6",
            "gridcolor": "white",
            "gridwidth": 2,
            "linecolor": "white",
            "showbackground": true,
            "ticks": "",
            "zerolinecolor": "white"
           }
          },
          "shapedefaults": {
           "line": {
            "color": "#2a3f5f"
           }
          },
          "ternary": {
           "aaxis": {
            "gridcolor": "white",
            "linecolor": "white",
            "ticks": ""
           },
           "baxis": {
            "gridcolor": "white",
            "linecolor": "white",
            "ticks": ""
           },
           "bgcolor": "#E5ECF6",
           "caxis": {
            "gridcolor": "white",
            "linecolor": "white",
            "ticks": ""
           }
          },
          "title": {
           "x": 0.05
          },
          "xaxis": {
           "automargin": true,
           "gridcolor": "white",
           "linecolor": "white",
           "ticks": "",
           "title": {
            "standoff": 15
           },
           "zerolinecolor": "white",
           "zerolinewidth": 2
          },
          "yaxis": {
           "automargin": true,
           "gridcolor": "white",
           "linecolor": "white",
           "ticks": "",
           "title": {
            "standoff": 15
           },
           "zerolinecolor": "white",
           "zerolinewidth": 2
          }
         }
        },
        "title": {
         "text": "USS by Failure"
        },
        "xaxis": {
         "anchor": "y",
         "domain": [
          0,
          1
         ],
         "title": {
          "text": "fail"
         }
        },
        "yaxis": {
         "anchor": "x",
         "domain": [
          0,
          1
         ],
         "title": {
          "text": "USS"
         }
        }
       }
      }
     },
     "metadata": {},
     "output_type": "display_data"
    }
   ],
   "source": [
    "for col in ['VOC', 'AQ', 'USS']:\n",
    "    fig = px.box(df, x='fail', y=col, title=f\"{col} by Failure\")\n",
    "    fig.show()"
   ]
  },
  {
   "cell_type": "markdown",
   "id": "6616bb23",
   "metadata": {},
   "source": [
    "Machines that fails, have higher VOC. Boxes does not overlap much.\n",
    "\n",
    "Higher AQ, more Likely to Fail\n",
    "Overlap exists, there's still a noticeable shift upward in AQ for failing machines. The boxplots overlap more than VOC did, so it’s still useful, but maybe less predictive than VOC.\n",
    "\n",
    "Lastly we see machines that are failing are showing lower USS readings, which likely means the sensor detects something is too close or something disrupting.\n",
    "\n",
    "Also see a correlation between AQ and VOC, which is trustful according to these observations. "
   ]
  },
  {
   "cell_type": "code",
   "execution_count": 51,
   "id": "26dfd996",
   "metadata": {},
   "outputs": [
    {
     "data": {
      "application/vnd.plotly.v1+json": {
       "config": {
        "plotlyServerURL": "https://plot.ly"
       },
       "data": [
        {
         "hovertemplate": "AQ=%{x}<br>VOC=%{y}<br>USS=%{z}<br>fail=%{marker.color}<extra></extra>",
         "legendgroup": "",
         "marker": {
          "color": {
           "bdata": "AQABAQEAAAEBAQAAAAEAAQABAAAAAAABAAABAAAAAAABAAAAAAEAAAEBAAEAAAAAAAEAAQAAAQABAQABAAAAAQEBAAAAAAABAAAAAQEBAAEAAAABAQEBAAEAAAEAAAAAAQAAAQAAAQEBAAAAAQABAAEAAQAAAAAAAQAAAQEAAQEAAAAAAQAAAAEAAQAAAQEAAAABAAAAAAEBAQABAAEBAQEAAAABAAEBAQEAAAEBAAEBAQABAQAAAAABAAAAAQEAAQABAAEAAAAAAAAAAQABAQEBAQEAAQABAAABAAEAAAABAQAAAAAAAAEBAAAAAAABAAAAAQABAAEBAAAAAQEAAQEAAAAAAAAAAAEAAAABAQABAQAAAAEBAAABAAAAAAEBAQABAAEBAQABAAAAAQAAAAABAAEBAQEBAAAAAAAAAAEBAAAAAQEAAAAAAQAAAAAAAQEAAQEBAQABAAAAAAEBAQABAAEAAAAAAQEAAQABAQABAQAAAAAAAAAAAAAAAQEAAAABAQEAAAABAQAAAAAAAQABAAEAAAAAAQEAAAAAAQABAQAAAAABAAEBAQEBAAAAAAEAAAABAAAAAQEAAQEBAAAAAQEBAAEAAAABAQAAAAAAAQABAAABAQEBAQEAAAABAQABAQAAAAEAAQABAAEAAQAAAAEAAAABAQAAAQABAQEAAQEBAQEAAQEAAQEAAAAAAAEBAQAAAAABAAEAAQEBAAEBAQEAAAAAAQEAAAAAAAEAAAABAAABAAEAAAAAAQAAAAEBAQEAAAEAAAAAAQAAAQAAAQAAAAABAAABAQABAQEAAQEBAAABAAAAAAABAAABAQEAAQEAAAABAQAAAAAAAAABAQAAAAEAAAEAAAEAAAEBAQEAAAEAAAAAAAEAAQAAAAABAAAAAQAAAAABAAAAAQAAAAABAAAAAQEAAQAAAQAAAQAAAQEAAAABAAEBAAEAAQAAAQEAAAEAAAEAAAAAAAAAAAEAAQEAAAEAAAEAAAABAQA=",
           "dtype": "i1"
          },
          "coloraxis": "coloraxis",
          "symbol": "circle"
         },
         "mode": "markers",
         "name": "",
         "scene": "scene",
         "showlegend": false,
         "type": "scatter3d",
         "x": {
          "bdata": "BwQFBQUBAgYGBAIDAgUGBAIEAgMDBAUGBQQGAwMDAwMGBAQEBAYBBAYFBAYDBAIEBAIGBgMBBAMEBgMGBAQDAwYGBAIDAwQEBQEEBAYFBAMEAgQGBwUGAwYEBQQDAQQCBQQEBgICBgcEAgMEBAQGBAYGBgMDAgUEBgQDBQYGBgUFAwMEBgQBBAYFBgMEBQUGBgUEBgIEBgQHBAYEBQUFAwYEBAMGAgYFBAUGAwUEAwYGBQMGBgMCAgMFAwQFBgUCBgUFAQcFAwQDAgQEBgQEBAYEBwcEBwIFAwMGBAYDAgUFBQQEAwQFBAYGBwIDAwQFBgIEBAMGBAUGAwUHBgUDBAEEAwYDBAMCAgYFBgUGBAMFBQMCBAUEBAUDBQIDBwYFBgQGBQYGBgQGBAQFBQIDBAQFBQYGBgQFBQIDBgMCBAMEBQMCBAYCAQYCBgQFBQUDBAYEBAYFBgIFAwUDBAUFBQQGBAYDAgICBgYCBgQGBwMGBgMCAwQEBAIDAgYBAgYEBwUGBgMCBQIGBgQGAgYDBgQGBAYEBAMCBgQGAwIEBQMFBwQDAQIHBAcGBgUGBAIDBAYEAwQGBAUDBQYEBQYFBAUCBgQGBAYEAwQGBgMCBAUGBgQGAwMGBQQGBgUCAQMGBAIGBAUEBQYCBgUEBAQEBgcDBAUEBgQFBQQFBwIFBgYDBgUFBgYDAwYEBAQDAwEEBgQGBQIDBAMEBQUDBAYGBAQDBgYGAwQEBAQCAwIDBAUDBQYGBAIGBQYEBQIEBQMCBAQGBQYCBAQEBAQFBQMDBQIGBgMBAwUEAwQGBQMGBgUDBgYFBAQGBQQEBAUFBAQEBgYFBAUCBAIFBwcCBAIFBAUEBgUGBAQEAwYCBAcEAgQGBAUFBgUFBQQDBgYDBwQEBQMFAgQBBwYDBAIEBAQCAwQFBAQGAwQHBgYDBQUEBAMCBAIEBgYDAwYGBAYGAQUFBAIEBgQEBAYDBQUEBAQEAgQFBAQGBwYEAgQCBAUCBAUGBAQ=",
          "dtype": "i1"
         },
         "y": {
          "bdata": "BQIFBQQBAQUBBgABAAUABAIGAQUAAgQFAAEEBAAAAAAGAgEAAAUAAAYFAAYBAQACAQYBBQECBgUFBgEGAAICBQEGAAECAAABBAADBAYGBQQBAAIGBQUFAQYCAQIDAAEABgMBBgAABgYFAAEABQIFAgUABgECAAIDBgABBQUABAUBAQUFBgQAAAYBBgEDAQQDBAQEAwABBQYGBQUGAAUCAwYBAQIGAQYFAQQAAQYCAgYFBQIGBgAAAQEFAAIEAAUABgUGAgUCAQUBAQEEBgIFBQYEBQYBBgADAAAEAQYBAAEEBQIBAgEBAQYGBgEBAAAEBgAABQEFAQUGAAIEBAUBBAMAAAABAAEAAAUAAQIFBAAFBAAAAgUFAQAGAgACAgYGBgIEAgYFBQEFAQMABQAAAAIFBQQGBAQGAAEAAQIABQYGBAMABAYAAAAABQAEAgEBBgYAAwYEBAAGAQABAAQGBQUGAwYAAAEABgYABgIFBgEGBgIEAgACAAABAAYBBQYBAwIGBgUBAgAEBQICAgAABQEGAQYCAAECBAQAAQECBgACBQMBAgEGAwUEBgQGAgABAQYBAgQGAAEBBAYDBQQFAgAABgQGAwUDAAEEBAACAAECBgEGAgAGBgMGBgQAAQAFBgEFBAEBAQYBBgEGAAQBBAAAAAUBAQEFBQQCBAEEBgUCBAUEBgUBAgUABgQBBAABAAQEBQIAAQAFAAQBAgYGBQUFBAYFAAAAAAUAAQAFAAUCAQEFAgEFAwYAAgEBBQAAAQYGBgYAAQEBAgUCBgABBQABBgEAAgADAgEEBQAEBgUBBAYEAAAGAAEAAgUGAQAEBgYABgEDAgEFBgQAAAAAAAAEBgIBAQUDAQQBAgYDAAUGBQYEAAUBAgABBgYBBgAAAAEEBgMBBAEAAQAGAgACBQAAAAEFAAIABQYCBQEEBQEABAIBBgYCAgAEAQYGAQMFAgIABgUBAgUBBgQCAQEAAwIBBAUABgUBAAYAAgMBAQIGBAE=",
          "dtype": "i1"
         },
         "z": {
          "bdata": "AQMDAQIEAgECAgIEBAIGAgQDAwUDAwICBAMEAgMBAwICBQQEBwIDBAMCBQMDAgIGBQQFAwQEAQMCAwQCAgMEAgMBAgQDAQQCBAIEAgECBQUEBAMCAQIDAwMDAgUEAQICAQICAQICAwEBAwIDAwQCBgIFAwMDAwQFAgQFAwEDBAIFAgMFAgUDBAEGAgQEAgUEAwYEBwIFBwIBBAQDBgECBAEDAgIEAwICAQQHAgIDAwICAgQCAgICBAMEAwUEBQQCAgMCAQMHAwQGAwQEAgQFAgICAgIGAwMCAwMCBgEEAgQCAgQDBAMDAwICBwMCAwYCBAEDAgICAgICBgMCAgIDAgQGAgcEAgICAgEEBwICAQUDAwMCBgEBBQMCBAEGBgICAgMBAgICAgQCAwYCAgIDBAICAgICAQMCAwQCBAICAwQCBAQCAgECAQMDAwQDAgQEAwEGAgICBAMCAwUEBAMCAQQDBAEDBQIBAgEEAgICAgUCAgMDAwQCBgMDAwQDBAECBwMBAQQDAwQCAQIGAwMDAgQCBAICBAMDAgEHBAIGAQIEAgMEAgQCAwECAQEBAwMCAgIFAwECBAIDAwIDAwQEBQQCAQIBBAEGAgMCAQQDBAQFAQUBBAMCAQECAgQDBQUDAgMBAgYDBgMCAgMBBQIEAgcGBAMCAwMBAgUDAQICAgIEAwMCAQEDAwMEAgIEBQIDAwIEAgMDAwQCBAIDAwEBAgQCAgIFAwQHBAMEBAIFAwICBQQCBQIDAgIDAgMGAgQEBAUCAgIDAwMEAwQCAgMEAgQFAgMCAgYBAgQCAgMCAgMDAQECBgQBAgEDBAQBAwYCAwIDAgIDBAMBAwMCBgIHBAUDAQIEBwQDAwMEBAEDAwMCBgIDBgEDAgICAgECAQMDAwMBAwUCBQUEAwMDAgMDAQYGBAUBBAIBAgICAgUDBQUDAgICAQIDBAQDAwICAgIFBQQCAgIFBAIDAwIDAgIDAgQFAgIFAQIEAwICBAMDBQIDAgU=",
          "dtype": "i1"
         }
        }
       ],
       "layout": {
        "coloraxis": {
         "colorbar": {
          "title": {
           "text": "fail"
          }
         },
         "colorscale": [
          [
           0,
           "#0d0887"
          ],
          [
           0.1111111111111111,
           "#46039f"
          ],
          [
           0.2222222222222222,
           "#7201a8"
          ],
          [
           0.3333333333333333,
           "#9c179e"
          ],
          [
           0.4444444444444444,
           "#bd3786"
          ],
          [
           0.5555555555555556,
           "#d8576b"
          ],
          [
           0.6666666666666666,
           "#ed7953"
          ],
          [
           0.7777777777777778,
           "#fb9f3a"
          ],
          [
           0.8888888888888888,
           "#fdca26"
          ],
          [
           1,
           "#f0f921"
          ]
         ]
        },
        "legend": {
         "tracegroupgap": 0
        },
        "scene": {
         "domain": {
          "x": [
           0,
           1
          ],
          "y": [
           0,
           1
          ]
         },
         "xaxis": {
          "title": {
           "text": "AQ"
          }
         },
         "yaxis": {
          "title": {
           "text": "VOC"
          }
         },
         "zaxis": {
          "title": {
           "text": "USS"
          }
         }
        },
        "template": {
         "data": {
          "bar": [
           {
            "error_x": {
             "color": "#2a3f5f"
            },
            "error_y": {
             "color": "#2a3f5f"
            },
            "marker": {
             "line": {
              "color": "#E5ECF6",
              "width": 0.5
             },
             "pattern": {
              "fillmode": "overlay",
              "size": 10,
              "solidity": 0.2
             }
            },
            "type": "bar"
           }
          ],
          "barpolar": [
           {
            "marker": {
             "line": {
              "color": "#E5ECF6",
              "width": 0.5
             },
             "pattern": {
              "fillmode": "overlay",
              "size": 10,
              "solidity": 0.2
             }
            },
            "type": "barpolar"
           }
          ],
          "carpet": [
           {
            "aaxis": {
             "endlinecolor": "#2a3f5f",
             "gridcolor": "white",
             "linecolor": "white",
             "minorgridcolor": "white",
             "startlinecolor": "#2a3f5f"
            },
            "baxis": {
             "endlinecolor": "#2a3f5f",
             "gridcolor": "white",
             "linecolor": "white",
             "minorgridcolor": "white",
             "startlinecolor": "#2a3f5f"
            },
            "type": "carpet"
           }
          ],
          "choropleth": [
           {
            "colorbar": {
             "outlinewidth": 0,
             "ticks": ""
            },
            "type": "choropleth"
           }
          ],
          "contour": [
           {
            "colorbar": {
             "outlinewidth": 0,
             "ticks": ""
            },
            "colorscale": [
             [
              0,
              "#0d0887"
             ],
             [
              0.1111111111111111,
              "#46039f"
             ],
             [
              0.2222222222222222,
              "#7201a8"
             ],
             [
              0.3333333333333333,
              "#9c179e"
             ],
             [
              0.4444444444444444,
              "#bd3786"
             ],
             [
              0.5555555555555556,
              "#d8576b"
             ],
             [
              0.6666666666666666,
              "#ed7953"
             ],
             [
              0.7777777777777778,
              "#fb9f3a"
             ],
             [
              0.8888888888888888,
              "#fdca26"
             ],
             [
              1,
              "#f0f921"
             ]
            ],
            "type": "contour"
           }
          ],
          "contourcarpet": [
           {
            "colorbar": {
             "outlinewidth": 0,
             "ticks": ""
            },
            "type": "contourcarpet"
           }
          ],
          "heatmap": [
           {
            "colorbar": {
             "outlinewidth": 0,
             "ticks": ""
            },
            "colorscale": [
             [
              0,
              "#0d0887"
             ],
             [
              0.1111111111111111,
              "#46039f"
             ],
             [
              0.2222222222222222,
              "#7201a8"
             ],
             [
              0.3333333333333333,
              "#9c179e"
             ],
             [
              0.4444444444444444,
              "#bd3786"
             ],
             [
              0.5555555555555556,
              "#d8576b"
             ],
             [
              0.6666666666666666,
              "#ed7953"
             ],
             [
              0.7777777777777778,
              "#fb9f3a"
             ],
             [
              0.8888888888888888,
              "#fdca26"
             ],
             [
              1,
              "#f0f921"
             ]
            ],
            "type": "heatmap"
           }
          ],
          "histogram": [
           {
            "marker": {
             "pattern": {
              "fillmode": "overlay",
              "size": 10,
              "solidity": 0.2
             }
            },
            "type": "histogram"
           }
          ],
          "histogram2d": [
           {
            "colorbar": {
             "outlinewidth": 0,
             "ticks": ""
            },
            "colorscale": [
             [
              0,
              "#0d0887"
             ],
             [
              0.1111111111111111,
              "#46039f"
             ],
             [
              0.2222222222222222,
              "#7201a8"
             ],
             [
              0.3333333333333333,
              "#9c179e"
             ],
             [
              0.4444444444444444,
              "#bd3786"
             ],
             [
              0.5555555555555556,
              "#d8576b"
             ],
             [
              0.6666666666666666,
              "#ed7953"
             ],
             [
              0.7777777777777778,
              "#fb9f3a"
             ],
             [
              0.8888888888888888,
              "#fdca26"
             ],
             [
              1,
              "#f0f921"
             ]
            ],
            "type": "histogram2d"
           }
          ],
          "histogram2dcontour": [
           {
            "colorbar": {
             "outlinewidth": 0,
             "ticks": ""
            },
            "colorscale": [
             [
              0,
              "#0d0887"
             ],
             [
              0.1111111111111111,
              "#46039f"
             ],
             [
              0.2222222222222222,
              "#7201a8"
             ],
             [
              0.3333333333333333,
              "#9c179e"
             ],
             [
              0.4444444444444444,
              "#bd3786"
             ],
             [
              0.5555555555555556,
              "#d8576b"
             ],
             [
              0.6666666666666666,
              "#ed7953"
             ],
             [
              0.7777777777777778,
              "#fb9f3a"
             ],
             [
              0.8888888888888888,
              "#fdca26"
             ],
             [
              1,
              "#f0f921"
             ]
            ],
            "type": "histogram2dcontour"
           }
          ],
          "mesh3d": [
           {
            "colorbar": {
             "outlinewidth": 0,
             "ticks": ""
            },
            "type": "mesh3d"
           }
          ],
          "parcoords": [
           {
            "line": {
             "colorbar": {
              "outlinewidth": 0,
              "ticks": ""
             }
            },
            "type": "parcoords"
           }
          ],
          "pie": [
           {
            "automargin": true,
            "type": "pie"
           }
          ],
          "scatter": [
           {
            "fillpattern": {
             "fillmode": "overlay",
             "size": 10,
             "solidity": 0.2
            },
            "type": "scatter"
           }
          ],
          "scatter3d": [
           {
            "line": {
             "colorbar": {
              "outlinewidth": 0,
              "ticks": ""
             }
            },
            "marker": {
             "colorbar": {
              "outlinewidth": 0,
              "ticks": ""
             }
            },
            "type": "scatter3d"
           }
          ],
          "scattercarpet": [
           {
            "marker": {
             "colorbar": {
              "outlinewidth": 0,
              "ticks": ""
             }
            },
            "type": "scattercarpet"
           }
          ],
          "scattergeo": [
           {
            "marker": {
             "colorbar": {
              "outlinewidth": 0,
              "ticks": ""
             }
            },
            "type": "scattergeo"
           }
          ],
          "scattergl": [
           {
            "marker": {
             "colorbar": {
              "outlinewidth": 0,
              "ticks": ""
             }
            },
            "type": "scattergl"
           }
          ],
          "scattermap": [
           {
            "marker": {
             "colorbar": {
              "outlinewidth": 0,
              "ticks": ""
             }
            },
            "type": "scattermap"
           }
          ],
          "scattermapbox": [
           {
            "marker": {
             "colorbar": {
              "outlinewidth": 0,
              "ticks": ""
             }
            },
            "type": "scattermapbox"
           }
          ],
          "scatterpolar": [
           {
            "marker": {
             "colorbar": {
              "outlinewidth": 0,
              "ticks": ""
             }
            },
            "type": "scatterpolar"
           }
          ],
          "scatterpolargl": [
           {
            "marker": {
             "colorbar": {
              "outlinewidth": 0,
              "ticks": ""
             }
            },
            "type": "scatterpolargl"
           }
          ],
          "scatterternary": [
           {
            "marker": {
             "colorbar": {
              "outlinewidth": 0,
              "ticks": ""
             }
            },
            "type": "scatterternary"
           }
          ],
          "surface": [
           {
            "colorbar": {
             "outlinewidth": 0,
             "ticks": ""
            },
            "colorscale": [
             [
              0,
              "#0d0887"
             ],
             [
              0.1111111111111111,
              "#46039f"
             ],
             [
              0.2222222222222222,
              "#7201a8"
             ],
             [
              0.3333333333333333,
              "#9c179e"
             ],
             [
              0.4444444444444444,
              "#bd3786"
             ],
             [
              0.5555555555555556,
              "#d8576b"
             ],
             [
              0.6666666666666666,
              "#ed7953"
             ],
             [
              0.7777777777777778,
              "#fb9f3a"
             ],
             [
              0.8888888888888888,
              "#fdca26"
             ],
             [
              1,
              "#f0f921"
             ]
            ],
            "type": "surface"
           }
          ],
          "table": [
           {
            "cells": {
             "fill": {
              "color": "#EBF0F8"
             },
             "line": {
              "color": "white"
             }
            },
            "header": {
             "fill": {
              "color": "#C8D4E3"
             },
             "line": {
              "color": "white"
             }
            },
            "type": "table"
           }
          ]
         },
         "layout": {
          "annotationdefaults": {
           "arrowcolor": "#2a3f5f",
           "arrowhead": 0,
           "arrowwidth": 1
          },
          "autotypenumbers": "strict",
          "coloraxis": {
           "colorbar": {
            "outlinewidth": 0,
            "ticks": ""
           }
          },
          "colorscale": {
           "diverging": [
            [
             0,
             "#8e0152"
            ],
            [
             0.1,
             "#c51b7d"
            ],
            [
             0.2,
             "#de77ae"
            ],
            [
             0.3,
             "#f1b6da"
            ],
            [
             0.4,
             "#fde0ef"
            ],
            [
             0.5,
             "#f7f7f7"
            ],
            [
             0.6,
             "#e6f5d0"
            ],
            [
             0.7,
             "#b8e186"
            ],
            [
             0.8,
             "#7fbc41"
            ],
            [
             0.9,
             "#4d9221"
            ],
            [
             1,
             "#276419"
            ]
           ],
           "sequential": [
            [
             0,
             "#0d0887"
            ],
            [
             0.1111111111111111,
             "#46039f"
            ],
            [
             0.2222222222222222,
             "#7201a8"
            ],
            [
             0.3333333333333333,
             "#9c179e"
            ],
            [
             0.4444444444444444,
             "#bd3786"
            ],
            [
             0.5555555555555556,
             "#d8576b"
            ],
            [
             0.6666666666666666,
             "#ed7953"
            ],
            [
             0.7777777777777778,
             "#fb9f3a"
            ],
            [
             0.8888888888888888,
             "#fdca26"
            ],
            [
             1,
             "#f0f921"
            ]
           ],
           "sequentialminus": [
            [
             0,
             "#0d0887"
            ],
            [
             0.1111111111111111,
             "#46039f"
            ],
            [
             0.2222222222222222,
             "#7201a8"
            ],
            [
             0.3333333333333333,
             "#9c179e"
            ],
            [
             0.4444444444444444,
             "#bd3786"
            ],
            [
             0.5555555555555556,
             "#d8576b"
            ],
            [
             0.6666666666666666,
             "#ed7953"
            ],
            [
             0.7777777777777778,
             "#fb9f3a"
            ],
            [
             0.8888888888888888,
             "#fdca26"
            ],
            [
             1,
             "#f0f921"
            ]
           ]
          },
          "colorway": [
           "#636efa",
           "#EF553B",
           "#00cc96",
           "#ab63fa",
           "#FFA15A",
           "#19d3f3",
           "#FF6692",
           "#B6E880",
           "#FF97FF",
           "#FECB52"
          ],
          "font": {
           "color": "#2a3f5f"
          },
          "geo": {
           "bgcolor": "white",
           "lakecolor": "white",
           "landcolor": "#E5ECF6",
           "showlakes": true,
           "showland": true,
           "subunitcolor": "white"
          },
          "hoverlabel": {
           "align": "left"
          },
          "hovermode": "closest",
          "mapbox": {
           "style": "light"
          },
          "paper_bgcolor": "white",
          "plot_bgcolor": "#E5ECF6",
          "polar": {
           "angularaxis": {
            "gridcolor": "white",
            "linecolor": "white",
            "ticks": ""
           },
           "bgcolor": "#E5ECF6",
           "radialaxis": {
            "gridcolor": "white",
            "linecolor": "white",
            "ticks": ""
           }
          },
          "scene": {
           "xaxis": {
            "backgroundcolor": "#E5ECF6",
            "gridcolor": "white",
            "gridwidth": 2,
            "linecolor": "white",
            "showbackground": true,
            "ticks": "",
            "zerolinecolor": "white"
           },
           "yaxis": {
            "backgroundcolor": "#E5ECF6",
            "gridcolor": "white",
            "gridwidth": 2,
            "linecolor": "white",
            "showbackground": true,
            "ticks": "",
            "zerolinecolor": "white"
           },
           "zaxis": {
            "backgroundcolor": "#E5ECF6",
            "gridcolor": "white",
            "gridwidth": 2,
            "linecolor": "white",
            "showbackground": true,
            "ticks": "",
            "zerolinecolor": "white"
           }
          },
          "shapedefaults": {
           "line": {
            "color": "#2a3f5f"
           }
          },
          "ternary": {
           "aaxis": {
            "gridcolor": "white",
            "linecolor": "white",
            "ticks": ""
           },
           "baxis": {
            "gridcolor": "white",
            "linecolor": "white",
            "ticks": ""
           },
           "bgcolor": "#E5ECF6",
           "caxis": {
            "gridcolor": "white",
            "linecolor": "white",
            "ticks": ""
           }
          },
          "title": {
           "x": 0.05
          },
          "xaxis": {
           "automargin": true,
           "gridcolor": "white",
           "linecolor": "white",
           "ticks": "",
           "title": {
            "standoff": 15
           },
           "zerolinecolor": "white",
           "zerolinewidth": 2
          },
          "yaxis": {
           "automargin": true,
           "gridcolor": "white",
           "linecolor": "white",
           "ticks": "",
           "title": {
            "standoff": 15
           },
           "zerolinecolor": "white",
           "zerolinewidth": 2
          }
         }
        },
        "title": {
         "text": "AQ + VOC + USS vs Failure"
        }
       }
      }
     },
     "metadata": {},
     "output_type": "display_data"
    }
   ],
   "source": [
    "#AQ is high,VOC is high,USS is low\n",
    "px.scatter_3d(df, x='AQ', y='VOC', z='USS', color='fail', title='AQ + VOC + USS vs Failure')\n"
   ]
  },
  {
   "cell_type": "code",
   "execution_count": 52,
   "id": "739a5b58",
   "metadata": {},
   "outputs": [
    {
     "data": {
      "text/plain": [
       "fail\n",
       "0    0.594702\n",
       "1    0.405298\n",
       "Name: proportion, dtype: float64"
      ]
     },
     "execution_count": 52,
     "metadata": {},
     "output_type": "execute_result"
    }
   ],
   "source": [
    "#checking if fail is imbalanced\n",
    "df['fail'].value_counts(normalize=True)"
   ]
  },
  {
   "cell_type": "markdown",
   "id": "11463afc",
   "metadata": {},
   "source": [
    "Are around 60/40, so move futher. "
   ]
  },
  {
   "cell_type": "code",
   "execution_count": 60,
   "id": "93a0323f",
   "metadata": {},
   "outputs": [
    {
     "data": {
      "application/vnd.plotly.v1+json": {
       "config": {
        "plotlyServerURL": "https://plot.ly"
       },
       "data": [
        {
         "marker": {
          "color": "skyblue"
         },
         "name": "footfall - Hist",
         "type": "histogram",
         "x": {
          "bdata": "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",
          "dtype": "i2"
         },
         "xaxis": "x",
         "yaxis": "y"
        },
        {
         "marker": {
          "color": "lightpink"
         },
         "name": "footfall - Box",
         "type": "box",
         "x": {
          "bdata": "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",
          "dtype": "i2"
         },
         "xaxis": "x2",
         "yaxis": "y2"
        },
        {
         "marker": {
          "color": "skyblue"
         },
         "name": "tempMode - Hist",
         "type": "histogram",
         "x": {
          "bdata": "AwYGBwcABwIHBwcDBwYDBQcFBQEEBwIAAAICAAcHAAQGAAMEAwMHBwAABwAFAgYFAgcCAAYEBwcFAQMBBwcABwICAwAHAgEDAQYAAAMDBwMHBwUAAgMBAAMAAgAHBwcBBQACAgMHBgcCAgAEBwMHBwEHBgEBBwMHBwMEBwUHAgQDBwIEAAAFBAcHAQEABwIABAcCAgMFAAcHAgMABwEBAAYCAAECAwACBwcDAAAHAwcHBAQHBwcHBQUABQUABAIHBwIHBwACAQUAAAUHBwcAAwEAAgMCAAAGBwMHBwcDBwcHBwQAAAIDBQcAAQAHAgIBBwIHAAABAwMEBwcDAAEAAwcABwcEBwcHAQUGBAEAAAIAAQADAwQHBQMFAwcABwcCAwMABwACBwQBAwAABwcDAgUCAwIFAAcCBwcCAQcHAAICBwUHAAcHAAcDBwcFBwcDBwEHBwEDAQQBBQcHBwQBBwEHAgICBwQCBwAABQMAAgUHAwICAwUAAgEFBwcCBQACBQIDBQQHAQMHAgcDAwACBwcBBgAHBwMFBAcHBQMEAAQABgAAAwABBwYHBQIBAgEDAgEHAAcCBwcFAwIHAgcFBAIHAwcAAAAHAwcBBwQAAwUHBgMHBAcCBwcCAgcHBQQCAAMABAADAAQDAQYHAAIDBAEHBwACBAMFAgAHAQAGBwMABwUBBAIAAAQFBAcCBgACBwIHBgQFAgAGAAIGBwcCBwEFBAEHBwcHAgAABwAFBwQHAAQBAQIHAAQHAgAHAwcHBwAAAQYCBwcBAQUHBwMAAwAABwUCAwcCAAMDBQcCBQMDAwUFBwAHBQUHBwAHBwIHAwYHAAADAgAGBwcCAwcHBwYBBwcDAAAHAwIHBQcHBwcFAAcHAQQDAQcDBwABBwACAQEFAwcHBwEABAYCAQMBBAcHBwQHBAcHAQcCAQUDBAIHBAUBAQAHAAcDAwAHBwUDBwAHBwMABwUFAwAHAAAHAQEHAwcEBwQABQIABwUBBwEFBwc=",
          "dtype": "i1"
         },
         "xaxis": "x3",
         "yaxis": "y3"
        },
        {
         "marker": {
          "color": "lightpink"
         },
         "name": "tempMode - Box",
         "type": "box",
         "x": {
          "bdata": "AwYGBwcABwIHBwcDBwYDBQcFBQEEBwIAAAICAAcHAAQGAAMEAwMHBwAABwAFAgYFAgcCAAYEBwcFAQMBBwcABwICAwAHAgEDAQYAAAMDBwMHBwUAAgMBAAMAAgAHBwcBBQACAgMHBgcCAgAEBwMHBwEHBgEBBwMHBwMEBwUHAgQDBwIEAAAFBAcHAQEABwIABAcCAgMFAAcHAgMABwEBAAYCAAECAwACBwcDAAAHAwcHBAQHBwcHBQUABQUABAIHBwIHBwACAQUAAAUHBwcAAwEAAgMCAAAGBwMHBwcDBwcHBwQAAAIDBQcAAQAHAgIBBwIHAAABAwMEBwcDAAEAAwcABwcEBwcHAQUGBAEAAAIAAQADAwQHBQMFAwcABwcCAwMABwACBwQBAwAABwcDAgUCAwIFAAcCBwcCAQcHAAICBwUHAAcHAAcDBwcFBwcDBwEHBwEDAQQBBQcHBwQBBwEHAgICBwQCBwAABQMAAgUHAwICAwUAAgEFBwcCBQACBQIDBQQHAQMHAgcDAwACBwcBBgAHBwMFBAcHBQMEAAQABgAAAwABBwYHBQIBAgEDAgEHAAcCBwcFAwIHAgcFBAIHAwcAAAAHAwcBBwQAAwUHBgMHBAcCBwcCAgcHBQQCAAMABAADAAQDAQYHAAIDBAEHBwACBAMFAgAHAQAGBwMABwUBBAIAAAQFBAcCBgACBwIHBgQFAgAGAAIGBwcCBwEFBAEHBwcHAgAABwAFBwQHAAQBAQIHAAQHAgAHAwcHBwAAAQYCBwcBAQUHBwMAAwAABwUCAwcCAAMDBQcCBQMDAwUFBwAHBQUHBwAHBwIHAwYHAAADAgAGBwcCAwcHBwYBBwcDAAAHAwIHBQcHBwcFAAcHAQQDAQcDBwABBwACAQEFAwcHBwEABAYCAQMBBAcHBwQHBAcHAQcCAQUDBAIHBAUBAQAHAAcDAwAHBwUDBwAHBwMABwUFAwAHAAAHAQEHAwcEBwQABQIABwUBBwEFBwc=",
          "dtype": "i1"
         },
         "xaxis": "x4",
         "yaxis": "y4"
        },
        {
         "marker": {
          "color": "skyblue"
         },
         "name": "AQ - Hist",
         "type": "histogram",
         "x": {
          "bdata": "BwQFBQUBAgYGBAIDAgUGBAIEAgMDBAUGBQQGAwMDAwMGBAQEBAYBBAYFBAYDBAIEBAIGBgMBBAMEBgMGBAQDAwYGBAIDAwQEBQEEBAYFBAMEAgQGBwUGAwYEBQQDAQQCBQQEBgICBgcEAgMEBAQGBAYGBgMDAgUEBgQDBQYGBgUFAwMEBgQBBAYFBgMEBQUGBgUEBgIEBgQHBAYEBQUFAwYEBAMGAgYFBAUGAwUEAwYGBQMGBgMCAgMFAwQFBgUCBgUFAQcFAwQDAgQEBgQEBAYEBwcEBwIFAwMGBAYDAgUFBQQEAwQFBAYGBwIDAwQFBgIEBAMGBAUGAwUHBgUDBAEEAwYDBAMCAgYFBgUGBAMFBQMCBAUEBAUDBQIDBwYFBgQGBQYGBgQGBAQFBQIDBAQFBQYGBgQFBQIDBgMCBAMEBQMCBAYCAQYCBgQFBQUDBAYEBAYFBgIFAwUDBAUFBQQGBAYDAgICBgYCBgQGBwMGBgMCAwQEBAIDAgYBAgYEBwUGBgMCBQIGBgQGAgYDBgQGBAYEBAMCBgQGAwIEBQMFBwQDAQIHBAcGBgUGBAIDBAYEAwQGBAUDBQYEBQYFBAUCBgQGBAYEAwQGBgMCBAUGBgQGAwMGBQQGBgUCAQMGBAIGBAUEBQYCBgUEBAQEBgcDBAUEBgQFBQQFBwIFBgYDBgUFBgYDAwYEBAQDAwEEBgQGBQIDBAMEBQUDBAYGBAQDBgYGAwQEBAQCAwIDBAUDBQYGBAIGBQYEBQIEBQMCBAQGBQYCBAQEBAQFBQMDBQIGBgMBAwUEAwQGBQMGBgUDBgYFBAQGBQQEBAUFBAQEBgYFBAUCBAIFBwcCBAIFBAUEBgUGBAQEAwYCBAcEAgQGBAUFBgUFBQQDBgYDBwQEBQMFAgQBBwYDBAIEBAQCAwQFBAQGAwQHBgYDBQUEBAMCBAIEBgYDAwYGBAYGAQUFBAIEBgQEBAYDBQUEBAQEAgQFBAQGBwYEAgQCBAUCBAUGBAQ=",
          "dtype": "i1"
         },
         "xaxis": "x5",
         "yaxis": "y5"
        },
        {
         "marker": {
          "color": "lightpink"
         },
         "name": "AQ - Box",
         "type": "box",
         "x": {
          "bdata": "BwQFBQUBAgYGBAIDAgUGBAIEAgMDBAUGBQQGAwMDAwMGBAQEBAYBBAYFBAYDBAIEBAIGBgMBBAMEBgMGBAQDAwYGBAIDAwQEBQEEBAYFBAMEAgQGBwUGAwYEBQQDAQQCBQQEBgICBgcEAgMEBAQGBAYGBgMDAgUEBgQDBQYGBgUFAwMEBgQBBAYFBgMEBQUGBgUEBgIEBgQHBAYEBQUFAwYEBAMGAgYFBAUGAwUEAwYGBQMGBgMCAgMFAwQFBgUCBgUFAQcFAwQDAgQEBgQEBAYEBwcEBwIFAwMGBAYDAgUFBQQEAwQFBAYGBwIDAwQFBgIEBAMGBAUGAwUHBgUDBAEEAwYDBAMCAgYFBgUGBAMFBQMCBAUEBAUDBQIDBwYFBgQGBQYGBgQGBAQFBQIDBAQFBQYGBgQFBQIDBgMCBAMEBQMCBAYCAQYCBgQFBQUDBAYEBAYFBgIFAwUDBAUFBQQGBAYDAgICBgYCBgQGBwMGBgMCAwQEBAIDAgYBAgYEBwUGBgMCBQIGBgQGAgYDBgQGBAYEBAMCBgQGAwIEBQMFBwQDAQIHBAcGBgUGBAIDBAYEAwQGBAUDBQYEBQYFBAUCBgQGBAYEAwQGBgMCBAUGBgQGAwMGBQQGBgUCAQMGBAIGBAUEBQYCBgUEBAQEBgcDBAUEBgQFBQQFBwIFBgYDBgUFBgYDAwYEBAQDAwEEBgQGBQIDBAMEBQUDBAYGBAQDBgYGAwQEBAQCAwIDBAUDBQYGBAIGBQYEBQIEBQMCBAQGBQYCBAQEBAQFBQMDBQIGBgMBAwUEAwQGBQMGBgUDBgYFBAQGBQQEBAUFBAQEBgYFBAUCBAIFBwcCBAIFBAUEBgUGBAQEAwYCBAcEAgQGBAUFBgUFBQQDBgYDBwQEBQMFAgQBBwYDBAIEBAQCAwQFBAQGAwQHBgYDBQUEBAMCBAIEBgYDAwYGBAYGAQUFBAIEBgQEBAYDBQUEBAQEAgQFBAQGBwYEAgQCBAUCBAUGBAQ=",
          "dtype": "i1"
         },
         "xaxis": "x6",
         "yaxis": "y6"
        },
        {
         "marker": {
          "color": "skyblue"
         },
         "name": "USS - Hist",
         "type": "histogram",
         "x": {
          "bdata": "AQMDAQIEAgECAgIEBAIGAgQDAwUDAwICBAMEAgMBAwICBQQEBwIDBAMCBQMDAgIGBQQFAwQEAQMCAwQCAgMEAgMBAgQDAQQCBAIEAgECBQUEBAMCAQIDAwMDAgUEAQICAQICAQICAwEBAwIDAwQCBgIFAwMDAwQFAgQFAwEDBAIFAgMFAgUDBAEGAgQEAgUEAwYEBwIFBwIBBAQDBgECBAEDAgIEAwICAQQHAgIDAwICAgQCAgICBAMEAwUEBQQCAgMCAQMHAwQGAwQEAgQFAgICAgIGAwMCAwMCBgEEAgQCAgQDBAMDAwICBwMCAwYCBAEDAgICAgICBgMCAgIDAgQGAgcEAgICAgEEBwICAQUDAwMCBgEBBQMCBAEGBgICAgMBAgICAgQCAwYCAgIDBAICAgICAQMCAwQCBAICAwQCBAQCAgECAQMDAwQDAgQEAwEGAgICBAMCAwUEBAMCAQQDBAEDBQIBAgEEAgICAgUCAgMDAwQCBgMDAwQDBAECBwMBAQQDAwQCAQIGAwMDAgQCBAICBAMDAgEHBAIGAQIEAgMEAgQCAwECAQEBAwMCAgIFAwECBAIDAwIDAwQEBQQCAQIBBAEGAgMCAQQDBAQFAQUBBAMCAQECAgQDBQUDAgMBAgYDBgMCAgMBBQIEAgcGBAMCAwMBAgUDAQICAgIEAwMCAQEDAwMEAgIEBQIDAwIEAgMDAwQCBAIDAwEBAgQCAgIFAwQHBAMEBAIFAwICBQQCBQIDAgIDAgMGAgQEBAUCAgIDAwMEAwQCAgMEAgQFAgMCAgYBAgQCAgMCAgMDAQECBgQBAgEDBAQBAwYCAwIDAgIDBAMBAwMCBgIHBAUDAQIEBwQDAwMEBAEDAwMCBgIDBgEDAgICAgECAQMDAwMBAwUCBQUEAwMDAgMDAQYGBAUBBAIBAgICAgUDBQUDAgICAQIDBAQDAwICAgIFBQQCAgIFBAIDAwIDAgIDAgQFAgIFAQIEAwICBAMDBQIDAgU=",
          "dtype": "i1"
         },
         "xaxis": "x7",
         "yaxis": "y7"
        },
        {
         "marker": {
          "color": "lightpink"
         },
         "name": "USS - Box",
         "type": "box",
         "x": {
          "bdata": "AQMDAQIEAgECAgIEBAIGAgQDAwUDAwICBAMEAgMBAwICBQQEBwIDBAMCBQMDAgIGBQQFAwQEAQMCAwQCAgMEAgMBAgQDAQQCBAIEAgECBQUEBAMCAQIDAwMDAgUEAQICAQICAQICAwEBAwIDAwQCBgIFAwMDAwQFAgQFAwEDBAIFAgMFAgUDBAEGAgQEAgUEAwYEBwIFBwIBBAQDBgECBAEDAgIEAwICAQQHAgIDAwICAgQCAgICBAMEAwUEBQQCAgMCAQMHAwQGAwQEAgQFAgICAgIGAwMCAwMCBgEEAgQCAgQDBAMDAwICBwMCAwYCBAEDAgICAgICBgMCAgIDAgQGAgcEAgICAgEEBwICAQUDAwMCBgEBBQMCBAEGBgICAgMBAgICAgQCAwYCAgIDBAICAgICAQMCAwQCBAICAwQCBAQCAgECAQMDAwQDAgQEAwEGAgICBAMCAwUEBAMCAQQDBAEDBQIBAgEEAgICAgUCAgMDAwQCBgMDAwQDBAECBwMBAQQDAwQCAQIGAwMDAgQCBAICBAMDAgEHBAIGAQIEAgMEAgQCAwECAQEBAwMCAgIFAwECBAIDAwIDAwQEBQQCAQIBBAEGAgMCAQQDBAQFAQUBBAMCAQECAgQDBQUDAgMBAgYDBgMCAgMBBQIEAgcGBAMCAwMBAgUDAQICAgIEAwMCAQEDAwMEAgIEBQIDAwIEAgMDAwQCBAIDAwEBAgQCAgIFAwQHBAMEBAIFAwICBQQCBQIDAgIDAgMGAgQEBAUCAgIDAwMEAwQCAgMEAgQFAgMCAgYBAgQCAgMCAgMDAQECBgQBAgEDBAQBAwYCAwIDAgIDBAMBAwMCBgIHBAUDAQIEBwQDAwMEBAEDAwMCBgIDBgEDAgICAgECAQMDAwMBAwUCBQUEAwMDAgMDAQYGBAUBBAIBAgICAgUDBQUDAgICAQIDBAQDAwICAgIFBQQCAgIFBAIDAwIDAgIDAgQFAgIFAQIEAwICBAMDBQIDAgU=",
          "dtype": "i1"
         },
         "xaxis": "x8",
         "yaxis": "y8"
        },
        {
         "marker": {
          "color": "skyblue"
         },
         "name": "CS - Hist",
         "type": "histogram",
         "x": {
          "bdata": "BgYGBAQGBgYFBQYGBgYEBQUFBQMEBgYGBgYFBAQHBgYFAwcGAQUGBgYGBAYFBwYFBQMDBgUGBAQGBgYGBwcGBAYGBgYHBgcGBQYGBAYFBQMGBgYFBQYGBgYGBgMFBQYHBAYDBQYEBgYGBgYGBQYEAQUDBgYGBgcFBgcGBAYEBQUEBgcDBQMGBgYEBgcEBQYHBAIDBAYHAwUGAwQFAwYEAwYGAgYGBgUGBQYGBQYEBgUGBQYFBQUGBwYGBAUGAwYGBQYGAgQCBgYEBgYGBgcDBgYFBgYFBgYFBwUFAgYFBwYGBgYGBwcGBgYGBQYHBgIGBwcFBgcFBwYFBAYFBgYGBgEEBwUFBgYHBgQGBQYFBQIGBQcGAwYGBwQEBgcFBQYGBgYGAwYFBgYGBQMHBgYGBAYGBwYGBQUGBwcGBQYHBgYGBwMGAwYHBwEHBgYGBAYHAQUBBgUEBgcGBQQFBwYGBgYGBQYEBwYEBgYGBgcDBgcGBgYHBgYFAgYGBQUGAgUGBgcHBgUFBgYEBgYDBgIGBgUGAgYGBwYGBQUEBwYDBQYFBwUHBwYGBgcFBgYFBgcFBwYEBQYGBQcGBQUEBgYGAQMGBgYFBAYDBwYFBQYEBwcCBgcFBgcGBgUFBgYGBgcGBgYFBQcFBAYFBgYFBgUDBQUEAgUGAQMGBgYHBgYGBQcGBgUFBgYFBQYGBgUGBgcGBwYGBgYGBAQGBwUHBQYGBgMGBgUFBgYCBAUGBgcEBgcHBgQFAgYGBwYCBQYGBQYGAQQGBgUFBwYGBgYHBgUGBgYEBgYGBwQGBgUGBQYFBgYGBgYFBgMGBAYEAgUGBQUEBQYGBQUGBwUFBwUHAgQEBQUFBQYBBAQGBgUDAwQEBwUGAgYGAgQGBgcGBAUGBwcGAgUHBgIHBwEGBQYDBwYGBAMDBgMGBgYCBwYGBAQGBQcGBQYGBgUGBwQFBgYGBwUGBAYGBQYFBgYGBwUGBgYHBwUFBwYEBgYDBgYGBwYHAwQGBgY=",
          "dtype": "i1"
         },
         "xaxis": "x9",
         "yaxis": "y9"
        },
        {
         "marker": {
          "color": "lightpink"
         },
         "name": "CS - Box",
         "type": "box",
         "x": {
          "bdata": "BgYGBAQGBgYFBQYGBgYEBQUFBQMEBgYGBgYFBAQHBgYFAwcGAQUGBgYGBAYFBwYFBQMDBgUGBAQGBgYGBwcGBAYGBgYHBgcGBQYGBAYFBQMGBgYFBQYGBgYGBgMFBQYHBAYDBQYEBgYGBgYGBQYEAQUDBgYGBgcFBgcGBAYEBQUEBgcDBQMGBgYEBgcEBQYHBAIDBAYHAwUGAwQFAwYEAwYGAgYGBgUGBQYGBQYEBgUGBQYFBQUGBwYGBAUGAwYGBQYGAgQCBgYEBgYGBgcDBgYFBgYFBgYFBwUFAgYFBwYGBgYGBwcGBgYGBQYHBgIGBwcFBgcFBwYFBAYFBgYGBgEEBwUFBgYHBgQGBQYFBQIGBQcGAwYGBwQEBgcFBQYGBgYGAwYFBgYGBQMHBgYGBAYGBwYGBQUGBwcGBQYHBgYGBwMGAwYHBwEHBgYGBAYHAQUBBgUEBgcGBQQFBwYGBgYGBQYEBwYEBgYGBgcDBgcGBgYHBgYFAgYGBQUGAgUGBgcHBgUFBgYEBgYDBgIGBgUGAgYGBwYGBQUEBwYDBQYFBwUHBwYGBgcFBgYFBgcFBwYEBQYGBQcGBQUEBgYGAQMGBgYFBAYDBwYFBQYEBwcCBgcFBgcGBgUFBgYGBgcGBgYFBQcFBAYFBgYFBgUDBQUEAgUGAQMGBgYHBgYGBQcGBgUFBgYFBQYGBgUGBgcGBwYGBgYGBAQGBwUHBQYGBgMGBgUFBgYCBAUGBgcEBgcHBgQFAgYGBwYCBQYGBQYGAQQGBgUFBwYGBgYHBgUGBgYEBgYGBwQGBgUGBQYFBgYGBgYFBgMGBAYEAgUGBQUEBQYGBQUGBwUFBwUHAgQEBQUFBQYBBAQGBgUDAwQEBwUGAgYGAgQGBgcGBAUGBwcGAgUHBgIHBwEGBQYDBwYGBAMDBgMGBgYCBwYGBAQGBQcGBQYGBgUGBwQFBgYGBwUGBAYGBQYFBgYGBwUGBgYHBwUFBwYEBgYDBgYGBwYHAwQGBgY=",
          "dtype": "i1"
         },
         "xaxis": "x10",
         "yaxis": "y10"
        },
        {
         "marker": {
          "color": "skyblue"
         },
         "name": "VOC - Hist",
         "type": "histogram",
         "x": {
          "bdata": "BQIFBQQBAQUBBgABAAUABAIGAQUAAgQFAAEEBAAAAAAGAgEAAAUAAAYFAAYBAQACAQYBBQECBgUFBgEGAAICBQEGAAECAAABBAADBAYGBQQBAAIGBQUFAQYCAQIDAAEABgMBBgAABgYFAAEABQIFAgUABgECAAIDBgABBQUABAUBAQUFBgQAAAYBBgEDAQQDBAQEAwABBQYGBQUGAAUCAwYBAQIGAQYFAQQAAQYCAgYFBQIGBgAAAQEFAAIEAAUABgUGAgUCAQUBAQEEBgIFBQYEBQYBBgADAAAEAQYBAAEEBQIBAgEBAQYGBgEBAAAEBgAABQEFAQUGAAIEBAUBBAMAAAABAAEAAAUAAQIFBAAFBAAAAgUFAQAGAgACAgYGBgIEAgYFBQEFAQMABQAAAAIFBQQGBAQGAAEAAQIABQYGBAMABAYAAAAABQAEAgEBBgYAAwYEBAAGAQABAAQGBQUGAwYAAAEABgYABgIFBgEGBgIEAgACAAABAAYBBQYBAwIGBgUBAgAEBQICAgAABQEGAQYCAAECBAQAAQECBgACBQMBAgEGAwUEBgQGAgABAQYBAgQGAAEBBAYDBQQFAgAABgQGAwUDAAEEBAACAAECBgEGAgAGBgMGBgQAAQAFBgEFBAEBAQYBBgEGAAQBBAAAAAUBAQEFBQQCBAEEBgUCBAUEBgUBAgUABgQBBAABAAQEBQIAAQAFAAQBAgYGBQUFBAYFAAAAAAUAAQAFAAUCAQEFAgEFAwYAAgEBBQAAAQYGBgYAAQEBAgUCBgABBQABBgEAAgADAgEEBQAEBgUBBAYEAAAGAAEAAgUGAQAEBgYABgEDAgEFBgQAAAAAAAAEBgIBAQUDAQQBAgYDAAUGBQYEAAUBAgABBgYBBgAAAAEEBgMBBAEAAQAGAgACBQAAAAEFAAIABQYCBQEEBQEABAIBBgYCAgAEAQYGAQMFAgIABgUBAgUBBgQCAQEAAwIBBAUABgUBAAYAAgMBAQIGBAE=",
          "dtype": "i1"
         },
         "xaxis": "x11",
         "yaxis": "y11"
        },
        {
         "marker": {
          "color": "lightpink"
         },
         "name": "VOC - Box",
         "type": "box",
         "x": {
          "bdata": "BQIFBQQBAQUBBgABAAUABAIGAQUAAgQFAAEEBAAAAAAGAgEAAAUAAAYFAAYBAQACAQYBBQECBgUFBgEGAAICBQEGAAECAAABBAADBAYGBQQBAAIGBQUFAQYCAQIDAAEABgMBBgAABgYFAAEABQIFAgUABgECAAIDBgABBQUABAUBAQUFBgQAAAYBBgEDAQQDBAQEAwABBQYGBQUGAAUCAwYBAQIGAQYFAQQAAQYCAgYFBQIGBgAAAQEFAAIEAAUABgUGAgUCAQUBAQEEBgIFBQYEBQYBBgADAAAEAQYBAAEEBQIBAgEBAQYGBgEBAAAEBgAABQEFAQUGAAIEBAUBBAMAAAABAAEAAAUAAQIFBAAFBAAAAgUFAQAGAgACAgYGBgIEAgYFBQEFAQMABQAAAAIFBQQGBAQGAAEAAQIABQYGBAMABAYAAAAABQAEAgEBBgYAAwYEBAAGAQABAAQGBQUGAwYAAAEABgYABgIFBgEGBgIEAgACAAABAAYBBQYBAwIGBgUBAgAEBQICAgAABQEGAQYCAAECBAQAAQECBgACBQMBAgEGAwUEBgQGAgABAQYBAgQGAAEBBAYDBQQFAgAABgQGAwUDAAEEBAACAAECBgEGAgAGBgMGBgQAAQAFBgEFBAEBAQYBBgEGAAQBBAAAAAUBAQEFBQQCBAEEBgUCBAUEBgUBAgUABgQBBAABAAQEBQIAAQAFAAQBAgYGBQUFBAYFAAAAAAUAAQAFAAUCAQEFAgEFAwYAAgEBBQAAAQYGBgYAAQEBAgUCBgABBQABBgEAAgADAgEEBQAEBgUBBAYEAAAGAAEAAgUGAQAEBgYABgEDAgEFBgQAAAAAAAAEBgIBAQUDAQQBAgYDAAUGBQYEAAUBAgABBgYBBgAAAAEEBgMBBAEAAQAGAgACBQAAAAEFAAIABQYCBQEEBQEABAIBBgYCAgAEAQYGAQMFAgIABgUBAgUBBgQCAQEAAwIBBAUABgUBAAYAAgMBAQIGBAE=",
          "dtype": "i1"
         },
         "xaxis": "x12",
         "yaxis": "y12"
        },
        {
         "marker": {
          "color": "skyblue"
         },
         "name": "RP - Hist",
         "type": "histogram",
         "x": {
          "bdata": "HFtATzQqGCMvTDQVWEMxOTVSMBkaKC44LRUiGiRKOiwuJRtFIkQ9FSIgSB5JHiEzKyEZIzUrJi8jIC0WRi8oSisjRRorOTgwFTEwSCgnOjAzNCQpNxQeMEQhKRgeIjIiRE8eUCQsTSQfLx4nKi5GHBk+NxhBORo3TSczSTVDQlMwKBweIBcrV1dNMSAvOCFEJTQXGyQyITgnFCgnRSVMNT85LTIlIyImO0gmJCgoL0EzPRlFNUciKSg9MjMtThZORBsfOh83G0YlOFUiKC4hRT04FioWGRs/PDFVPlMsFkUuMj8eHhshHysgIxZBLzMdKUBUGxopMDYxPisuIBgoJCwvMT4cVEMXKShLMCccNS4aHCclGzBCNS0tOh4oMy0aHjAkRCcgLyolMS4jRicqQzcZKiEbWB8mLjNIHy1EJxQfSSQ5KFEjJhgjKUg/OUQhLRVGPSM9NR42GUwmRkwcRCAkNDE+JkYkV0MvSRUkEzoyKCgmHSkUOSsYQ1IpISQVFRtYPCYsJRs2GkZMLU4jQDoxLiEgLCcvJllMKC8cKBkgSzEjQzMtKCYwOSU0FyAvICNHKi0fTTMwISonHy9GI0MdIiE5KCwfMFQkRB0dIjcnPiQ2JUwfMioxJzQ1QCUkKSE9OSAdGB44Iz4zKUkgPj43OD4tJDI0I0VOJxUuPisZOisvKDE4IBwgMjwrJR8lSiJJJyFIOjAmKiJDSz86Nh8aQic7ITY1NSYtNTMsNz41OSYmJRwpMR4wSTIdSzlVTys1MTs2IzUpSkUrLSkkFSMjQzAZI0QYKhpBIzk4Oy8jMSo6WCAzT08oLDdXOSM/IyJNOigqHh8xRiIkLExKKjMlQkgXNyZFHTIrHRpOJz8mGDIlP0wTHUsWOB0iGFsxQRRFQUlCISEqK0MhJysrIS07Kis4KRs+IiklJD0sMyZPIywWHiIfJUoyIiUxNzUvUxRKJCcVSkMvHiVMFSUiGzI/RCJIRyYkHRUtWCwgKxkxTEM=",
          "dtype": "i1"
         },
         "xaxis": "x13",
         "yaxis": "y13"
        },
        {
         "marker": {
          "color": "lightpink"
         },
         "name": "RP - Box",
         "type": "box",
         "x": {
          "bdata": "HFtATzQqGCMvTDQVWEMxOTVSMBkaKC44LRUiGiRKOiwuJRtFIkQ9FSIgSB5JHiEzKyEZIzUrJi8jIC0WRi8oSisjRRorOTgwFTEwSCgnOjAzNCQpNxQeMEQhKRgeIjIiRE8eUCQsTSQfLx4nKi5GHBk+NxhBORo3TSczSTVDQlMwKBweIBcrV1dNMSAvOCFEJTQXGyQyITgnFCgnRSVMNT85LTIlIyImO0gmJCgoL0EzPRlFNUciKSg9MjMtThZORBsfOh83G0YlOFUiKC4hRT04FioWGRs/PDFVPlMsFkUuMj8eHhshHysgIxZBLzMdKUBUGxopMDYxPisuIBgoJCwvMT4cVEMXKShLMCccNS4aHCclGzBCNS0tOh4oMy0aHjAkRCcgLyolMS4jRicqQzcZKiEbWB8mLjNIHy1EJxQfSSQ5KFEjJhgjKUg/OUQhLRVGPSM9NR42GUwmRkwcRCAkNDE+JkYkV0MvSRUkEzoyKCgmHSkUOSsYQ1IpISQVFRtYPCYsJRs2GkZMLU4jQDoxLiEgLCcvJllMKC8cKBkgSzEjQzMtKCYwOSU0FyAvICNHKi0fTTMwISonHy9GI0MdIiE5KCwfMFQkRB0dIjcnPiQ2JUwfMioxJzQ1QCUkKSE9OSAdGB44Iz4zKUkgPj43OD4tJDI0I0VOJxUuPisZOisvKDE4IBwgMjwrJR8lSiJJJyFIOjAmKiJDSz86Nh8aQic7ITY1NSYtNTMsNz41OSYmJRwpMR4wSTIdSzlVTys1MTs2IzUpSkUrLSkkFSMjQzAZI0QYKhpBIzk4Oy8jMSo6WCAzT08oLDdXOSM/IyJNOigqHh8xRiIkLExKKjMlQkgXNyZFHTIrHRpOJz8mGDIlP0wTHUsWOB0iGFsxQRRFQUlCISEqK0MhJysrIS07Kis4KRs+IiklJD0sMyZPIywWHiIfJUoyIiUxNzUvUxRKJCcVSkMvHiVMFSUiGzI/RCJIRyYkHRUtWCwgKxkxTEM=",
          "dtype": "i1"
         },
         "xaxis": "x14",
         "yaxis": "y14"
        },
        {
         "marker": {
          "color": "skyblue"
         },
         "name": "IP - Hist",
         "type": "histogram",
         "x": {
          "bdata": "BAECBwMHBgUDAwQEBAMEBgYDBAUGAwYDBwQEAgYDBAMHAwYDAwMHAwYEAgYFBgUDBQYDBAMGBgMEAwYDAgYHBgQHAwUHBwMDBAYHAwUHBwMDBgMGAwQEBgQHBgYDAwYGAwQFBgQFAwMDAwcGBQYEAwMDBgYHBgQDBAMEBQcDAQMDBgMGAwMGAgUEBAYEBgMGBgMFAwYFBAcDAwMEAwQDBwcGAwMEBwMDBAYDBQYGBgcEBgYDBgIEAwQEBAYDBgQDBgYGBQMDBgQFBwIDAwMGAwMHAwYDBgcGBQcBAwUGBAEGBgcGBQMFBAUDAgYCBwMEBgMGBgYEAwUHAwcDAwYHBgMDBwMGBAMEAwcGBAIDAwMEBQMEAwQDAwYGBQMDBAYFBgUGAwMGBwYEBwUEBgYGAQMEBgYHBAIGBgQEAwUEBwQGBAQGAwUEAwQHBAIHBAMGAwQDBwcHBQQGBgIHAwcEAwYGAwQEAwIDBwUHAwMEBAMDBgYEBwcDBAcGAwUGBAYEAgUCBwQHBAUEBQMGBQIGBQMDAwYGBQYHAgcDBQcEBgUDAwYFBwcEBAIHBwMHBgUGBQMCAwMFAwMGAgcEBwcHBAMGAwUGAwYEAwMHBgYGBAQEBAMFBQUFAgMGAwcDBgQGBwYEAwQGBAYHBAQFAwQDAwMFAwUDBAQHBgMEAwUGBgYEAgYGAwQHBgYFBAQGBgQDAwYCBwcGAgYEAgQEBAQGBgMGBAUEBQMBAwYGAgQFAwYDBwQGBAcEBgYCAgYDBgMHBAMDBAUHBQMEAwQHBAMHBAQEBAYGBgYGBAYEBgYDBQYFBgQHAgMHBgEGAwMGBwQGBgcGAwYDAwcGAgcGAwYBBQIGBAQDAgMCBgYEAwYDBAcGBAYHAwIEAwUGAwQGBgEEAgQEBAMEAwMHBQQDBgQHAwMCBQYEBAYCBgQGBwMHAwQDBwcEBAYHAwMGBAYHBAUDBgQEAwUDBwYHBgUFBQYDBgYEAwYCBAUDBwMHAgMEAwUGBAI=",
          "dtype": "i1"
         },
         "xaxis": "x15",
         "yaxis": "y15"
        },
        {
         "marker": {
          "color": "lightpink"
         },
         "name": "IP - Box",
         "type": "box",
         "x": {
          "bdata": "BAECBwMHBgUDAwQEBAMEBgYDBAUGAwYDBwQEAgYDBAMHAwYDAwMHAwYEAgYFBgUDBQYDBAMGBgMEAwYDAgYHBgQHAwUHBwMDBAYHAwUHBwMDBgMGAwQEBgQHBgYDAwYGAwQFBgQFAwMDAwcGBQYEAwMDBgYHBgQDBAMEBQcDAQMDBgMGAwMGAgUEBAYEBgMGBgMFAwYFBAcDAwMEAwQDBwcGAwMEBwMDBAYDBQYGBgcEBgYDBgIEAwQEBAYDBgQDBgYGBQMDBgQFBwIDAwMGAwMHAwYDBgcGBQcBAwUGBAEGBgcGBQMFBAUDAgYCBwMEBgMGBgYEAwUHAwcDAwYHBgMDBwMGBAMEAwcGBAIDAwMEBQMEAwQDAwYGBQMDBAYFBgUGAwMGBwYEBwUEBgYGAQMEBgYHBAIGBgQEAwUEBwQGBAQGAwUEAwQHBAIHBAMGAwQDBwcHBQQGBgIHAwcEAwYGAwQEAwIDBwUHAwMEBAMDBgYEBwcDBAcGAwUGBAYEAgUCBwQHBAUEBQMGBQIGBQMDAwYGBQYHAgcDBQcEBgUDAwYFBwcEBAIHBwMHBgUGBQMCAwMFAwMGAgcEBwcHBAMGAwUGAwYEAwMHBgYGBAQEBAMFBQUFAgMGAwcDBgQGBwYEAwQGBAYHBAQFAwQDAwMFAwUDBAQHBgMEAwUGBgYEAgYGAwQHBgYFBAQGBgQDAwYCBwcGAgYEAgQEBAQGBgMGBAUEBQMBAwYGAgQFAwYDBwQGBAcEBgYCAgYDBgMHBAMDBAUHBQMEAwQHBAMHBAQEBAYGBgYGBAYEBgYDBQYFBgQHAgMHBgEGAwMGBwQGBgcGAwYDAwcGAgcGAwYBBQIGBAQDAgMCBgYEAwYDBAcGBAYHAwIEAwUGAwQGBgEEAgQEBAMEAwMHBQQDBgQHAwMCBQYEBAYCBgQGBwMHAwQDBwcEBAYHAwMGBAYHBAUDBgQEAwUDBwYHBgUFBQYDBgYEAwYCBAUDBwMHAgMEAwUGBAI=",
          "dtype": "i1"
         },
         "xaxis": "x16",
         "yaxis": "y16"
        },
        {
         "marker": {
          "color": "skyblue"
         },
         "name": "Temperature - Hist",
         "type": "histogram",
         "x": {
          "bdata": "DgUPEBEQAQcRFQ0BBA8WEBgGFRUYGBgUFgIFARQPERQYCA8SAgQVDxQVDBMFFRQUDxYPDA0TFQ8PERQRDRYYDxUVBBAYEBATAQsYERUVEw8TGBASExgUFA0YFQ0FChURDxEPCRQTEQEUEg8XFRILFBAQFwYYDA8XBQ8JDxgKCQsCEwwUFAsRCgsBFBcFFBAOChUNDRgUCRgQDAMUBxUEFRUTAhASGA8EERcUDhIUFhQBFRMQEAUEEA4PEBATDwEMEBEUDRMVERITGAwUEhgRCw4UFxAFCBMTEAcIEAYTBg8YFxgUGBQGARASAwMPCxIWGBUHEQwRFBgUDBAUFRUQDhIPFQEBEg4SFRQREA0MDxMPEwEOAhANFBYYFQ8REhYTDBQRDgYTFhQWDwwVFREWCwURFhQPBREWEgwOFRQOEgYWCAgWEhYTCQgRFAQUFxAOAxAMGBYVDhEVDw8YCggXBBAXChEQFA8CFxUVEBMUAwwOGBQVFgsPExgBCQ8OFBgMCBQMDxUUFRgUEhgDGAsXCwESBBgWEhcSDxQNAhYRGBANAxgQERgWFQwYFxIYFhQYCxQLFhQVCA0VBxERFRQVCAQLEBgMFhcBFQMRDg8VExQUFQ4UDxEKFRQXExgSCgoVGBUUEBEPDAgWFAoYDBQPDxAIDAwRDhEVFhcJFBAVFhgNFBcXFRcUFxUQGBIOFRESCBUNFhQUEBgWDRUVDxQQFxUQDhQUDxAQDRgWERASFBgXFxQWFBYTGBQGDhULEwMTCxQXFhYYFQYTDhUUFRETFgwQEBUWDQEVFBcUFRMVFQcVFBASAwMWDAkCFw0SFRAPERUQFBIKBBEUCRgSBBYBCwMSEAwVDRYEDxUVFQ8VDhURERgWDgwLExUQFRIWFQcTEAEYEwUMAxUSEREQBg8TEBYOAQ8UEA4LFxgUFhIYEhcOExcTFQwWFRIVEgQSExcVDgIPEQsPDBAWERIQFQ8UCRQXBxAGEQ8NEQgUAhUFBw4XEQc=",
          "dtype": "i1"
         },
         "xaxis": "x17",
         "yaxis": "y17"
        },
        {
         "marker": {
          "color": "lightpink"
         },
         "name": "Temperature - Box",
         "type": "box",
         "x": {
          "bdata": "DgUPEBEQAQcRFQ0BBA8WEBgGFRUYGBgUFgIFARQPERQYCA8SAgQVDxQVDBMFFRQUDxYPDA0TFQ8PERQRDRYYDxUVBBAYEBATAQsYERUVEw8TGBASExgUFA0YFQ0FChURDxEPCRQTEQEUEg8XFRILFBAQFwYYDA8XBQ8JDxgKCQsCEwwUFAsRCgsBFBcFFBAOChUNDRgUCRgQDAMUBxUEFRUTAhASGA8EERcUDhIUFhQBFRMQEAUEEA4PEBATDwEMEBEUDRMVERITGAwUEhgRCw4UFxAFCBMTEAcIEAYTBg8YFxgUGBQGARASAwMPCxIWGBUHEQwRFBgUDBAUFRUQDhIPFQEBEg4SFRQREA0MDxMPEwEOAhANFBYYFQ8REhYTDBQRDgYTFhQWDwwVFREWCwURFhQPBREWEgwOFRQOEgYWCAgWEhYTCQgRFAQUFxAOAxAMGBYVDhEVDw8YCggXBBAXChEQFA8CFxUVEBMUAwwOGBQVFgsPExgBCQ8OFBgMCBQMDxUUFRgUEhgDGAsXCwESBBgWEhcSDxQNAhYRGBANAxgQERgWFQwYFxIYFhQYCxQLFhQVCA0VBxERFRQVCAQLEBgMFhcBFQMRDg8VExQUFQ4UDxEKFRQXExgSCgoVGBUUEBEPDAgWFAoYDBQPDxAIDAwRDhEVFhcJFBAVFhgNFBcXFRcUFxUQGBIOFRESCBUNFhQUEBgWDRUVDxQQFxUQDhQUDxAQDRgWERASFBgXFxQWFBYTGBQGDhULEwMTCxQXFhYYFQYTDhUUFRETFgwQEBUWDQEVFBcUFRMVFQcVFBASAwMWDAkCFw0SFRAPERUQFBIKBBEUCRgSBBYBCwMSEAwVDRYEDxUVFQ8VDhURERgWDgwLExUQFRIWFQcTEAEYEwUMAxUSEREQBg8TEBYOAQ8UEA4LFxgUFhIYEhcOExcTFQwWFRIVEgQSExcVDgIPEQsPDBAWERIQFQ8UCRQXBxAGEQ8NEQgUAhUFBw4XEQc=",
          "dtype": "i1"
         },
         "xaxis": "x18",
         "yaxis": "y18"
        },
        {
         "marker": {
          "color": "skyblue"
         },
         "name": "fail - Hist",
         "type": "histogram",
         "x": {
          "bdata": "AQABAQEAAAEBAQAAAAEAAQABAAAAAAABAAABAAAAAAABAAAAAAEAAAEBAAEAAAAAAAEAAQAAAQABAQABAAAAAQEBAAAAAAABAAAAAQEBAAEAAAABAQEBAAEAAAEAAAAAAQAAAQAAAQEBAAAAAQABAAEAAQAAAAAAAQAAAQEAAQEAAAAAAQAAAAEAAQAAAQEAAAABAAAAAAEBAQABAAEBAQEAAAABAAEBAQEAAAEBAAEBAQABAQAAAAABAAAAAQEAAQABAAEAAAAAAAAAAQABAQEBAQEAAQABAAABAAEAAAABAQAAAAAAAAEBAAAAAAABAAAAAQABAAEBAAAAAQEAAQEAAAAAAAAAAAEAAAABAQABAQAAAAEBAAABAAAAAAEBAQABAAEBAQABAAAAAQAAAAABAAEBAQEBAAAAAAAAAAEBAAAAAQEAAAAAAQAAAAAAAQEAAQEBAQABAAAAAAEBAQABAAEAAAAAAQEAAQABAQABAQAAAAAAAAAAAAAAAQEAAAABAQEAAAABAQAAAAAAAQABAAEAAAAAAQEAAAAAAQABAQAAAAABAAEBAQEBAAAAAAEAAAABAAAAAQEAAQEBAAAAAQEBAAEAAAABAQAAAAAAAQABAAABAQEBAQEAAAABAQABAQAAAAEAAQABAAEAAQAAAAEAAAABAQAAAQABAQEAAQEBAQEAAQEAAQEAAAAAAAEBAQAAAAABAAEAAQEBAAEBAQEAAAAAAQEAAAAAAAEAAAABAAABAAEAAAAAAQAAAAEBAQEAAAEAAAAAAQAAAQAAAQAAAAABAAABAQABAQEAAQEBAAABAAAAAAABAAABAQEAAQEAAAABAQAAAAAAAAABAQAAAAEAAAEAAAEAAAEBAQEAAAEAAAAAAAEAAQAAAAABAAAAAQAAAAABAAAAAQAAAAABAAAAAQEAAQAAAQAAAQAAAQEAAAABAAEBAAEAAQAAAQEAAAEAAAEAAAAAAAAAAAEAAQEAAAEAAAEAAAABAQA=",
          "dtype": "i1"
         },
         "xaxis": "x19",
         "yaxis": "y19"
        },
        {
         "marker": {
          "color": "lightpink"
         },
         "name": "fail - Box",
         "type": "box",
         "x": {
          "bdata": "AQABAQEAAAEBAQAAAAEAAQABAAAAAAABAAABAAAAAAABAAAAAAEAAAEBAAEAAAAAAAEAAQAAAQABAQABAAAAAQEBAAAAAAABAAAAAQEBAAEAAAABAQEBAAEAAAEAAAAAAQAAAQAAAQEBAAAAAQABAAEAAQAAAAAAAQAAAQEAAQEAAAAAAQAAAAEAAQAAAQEAAAABAAAAAAEBAQABAAEBAQEAAAABAAEBAQEAAAEBAAEBAQABAQAAAAABAAAAAQEAAQABAAEAAAAAAAAAAQABAQEBAQEAAQABAAABAAEAAAABAQAAAAAAAAEBAAAAAAABAAAAAQABAAEBAAAAAQEAAQEAAAAAAAAAAAEAAAABAQABAQAAAAEBAAABAAAAAAEBAQABAAEBAQABAAAAAQAAAAABAAEBAQEBAAAAAAAAAAEBAAAAAQEAAAAAAQAAAAAAAQEAAQEBAQABAAAAAAEBAQABAAEAAAAAAQEAAQABAQABAQAAAAAAAAAAAAAAAQEAAAABAQEAAAABAQAAAAAAAQABAAEAAAAAAQEAAAAAAQABAQAAAAABAAEBAQEBAAAAAAEAAAABAAAAAQEAAQEBAAAAAQEBAAEAAAABAQAAAAAAAQABAAABAQEBAQEAAAABAQABAQAAAAEAAQABAAEAAQAAAAEAAAABAQAAAQABAQEAAQEBAQEAAQEAAQEAAAAAAAEBAQAAAAABAAEAAQEBAAEBAQEAAAAAAQEAAAAAAAEAAAABAAABAAEAAAAAAQAAAAEBAQEAAAEAAAAAAQAAAQAAAQAAAAABAAABAQABAQEAAQEBAAABAAAAAAABAAABAQEAAQEAAAABAQAAAAAAAAABAQAAAAEAAAEAAAEAAAEBAQEAAAEAAAAAAAEAAQAAAAABAAAAAQAAAAABAAAAAQAAAAABAAAAAQEAAQAAAQAAAQAAAQEAAAABAAEBAAEAAQAAAQEAAAEAAAEAAAAAAAAAAAEAAQEAAAEAAAEAAAABAQA=",
          "dtype": "i1"
         },
         "xaxis": "x20",
         "yaxis": "y20"
        }
       ],
       "layout": {
        "annotations": [
         {
          "font": {
           "size": 16
          },
          "showarrow": false,
          "text": "footfall",
          "x": 0.2125,
          "xanchor": "center",
          "xref": "paper",
          "y": 1,
          "yanchor": "bottom",
          "yref": "paper"
         },
         {
          "font": {
           "size": 16
          },
          "showarrow": false,
          "text": "footfall",
          "x": 0.7875,
          "xanchor": "center",
          "xref": "paper",
          "y": 1,
          "yanchor": "bottom",
          "yref": "paper"
         },
         {
          "font": {
           "size": 16
          },
          "showarrow": false,
          "text": "tempMode",
          "x": 0.2125,
          "xanchor": "center",
          "xref": "paper",
          "y": 0.8950000000000001,
          "yanchor": "bottom",
          "yref": "paper"
         },
         {
          "font": {
           "size": 16
          },
          "showarrow": false,
          "text": "tempMode",
          "x": 0.7875,
          "xanchor": "center",
          "xref": "paper",
          "y": 0.8950000000000001,
          "yanchor": "bottom",
          "yref": "paper"
         },
         {
          "font": {
           "size": 16
          },
          "showarrow": false,
          "text": "AQ",
          "x": 0.2125,
          "xanchor": "center",
          "xref": "paper",
          "y": 0.7900000000000001,
          "yanchor": "bottom",
          "yref": "paper"
         },
         {
          "font": {
           "size": 16
          },
          "showarrow": false,
          "text": "AQ",
          "x": 0.7875,
          "xanchor": "center",
          "xref": "paper",
          "y": 0.7900000000000001,
          "yanchor": "bottom",
          "yref": "paper"
         },
         {
          "font": {
           "size": 16
          },
          "showarrow": false,
          "text": "USS",
          "x": 0.2125,
          "xanchor": "center",
          "xref": "paper",
          "y": 0.6850000000000002,
          "yanchor": "bottom",
          "yref": "paper"
         },
         {
          "font": {
           "size": 16
          },
          "showarrow": false,
          "text": "USS",
          "x": 0.7875,
          "xanchor": "center",
          "xref": "paper",
          "y": 0.6850000000000002,
          "yanchor": "bottom",
          "yref": "paper"
         },
         {
          "font": {
           "size": 16
          },
          "showarrow": false,
          "text": "CS",
          "x": 0.2125,
          "xanchor": "center",
          "xref": "paper",
          "y": 0.5800000000000001,
          "yanchor": "bottom",
          "yref": "paper"
         },
         {
          "font": {
           "size": 16
          },
          "showarrow": false,
          "text": "CS",
          "x": 0.7875,
          "xanchor": "center",
          "xref": "paper",
          "y": 0.5800000000000001,
          "yanchor": "bottom",
          "yref": "paper"
         },
         {
          "font": {
           "size": 16
          },
          "showarrow": false,
          "text": "VOC",
          "x": 0.2125,
          "xanchor": "center",
          "xref": "paper",
          "y": 0.47500000000000003,
          "yanchor": "bottom",
          "yref": "paper"
         },
         {
          "font": {
           "size": 16
          },
          "showarrow": false,
          "text": "VOC",
          "x": 0.7875,
          "xanchor": "center",
          "xref": "paper",
          "y": 0.47500000000000003,
          "yanchor": "bottom",
          "yref": "paper"
         },
         {
          "font": {
           "size": 16
          },
          "showarrow": false,
          "text": "RP",
          "x": 0.2125,
          "xanchor": "center",
          "xref": "paper",
          "y": 0.37000000000000005,
          "yanchor": "bottom",
          "yref": "paper"
         },
         {
          "font": {
           "size": 16
          },
          "showarrow": false,
          "text": "RP",
          "x": 0.7875,
          "xanchor": "center",
          "xref": "paper",
          "y": 0.37000000000000005,
          "yanchor": "bottom",
          "yref": "paper"
         },
         {
          "font": {
           "size": 16
          },
          "showarrow": false,
          "text": "IP",
          "x": 0.2125,
          "xanchor": "center",
          "xref": "paper",
          "y": 0.265,
          "yanchor": "bottom",
          "yref": "paper"
         },
         {
          "font": {
           "size": 16
          },
          "showarrow": false,
          "text": "IP",
          "x": 0.7875,
          "xanchor": "center",
          "xref": "paper",
          "y": 0.265,
          "yanchor": "bottom",
          "yref": "paper"
         },
         {
          "font": {
           "size": 16
          },
          "showarrow": false,
          "text": "Temperature",
          "x": 0.2125,
          "xanchor": "center",
          "xref": "paper",
          "y": 0.16000000000000003,
          "yanchor": "bottom",
          "yref": "paper"
         },
         {
          "font": {
           "size": 16
          },
          "showarrow": false,
          "text": "Temperature",
          "x": 0.7875,
          "xanchor": "center",
          "xref": "paper",
          "y": 0.16000000000000003,
          "yanchor": "bottom",
          "yref": "paper"
         },
         {
          "font": {
           "size": 16
          },
          "showarrow": false,
          "text": "fail",
          "x": 0.2125,
          "xanchor": "center",
          "xref": "paper",
          "y": 0.05500000000000001,
          "yanchor": "bottom",
          "yref": "paper"
         },
         {
          "font": {
           "size": 16
          },
          "showarrow": false,
          "text": "fail",
          "x": 0.7875,
          "xanchor": "center",
          "xref": "paper",
          "y": 0.05500000000000001,
          "yanchor": "bottom",
          "yref": "paper"
         }
        ],
        "height": 2500,
        "showlegend": false,
        "template": {
         "data": {
          "bar": [
           {
            "error_x": {
             "color": "#2a3f5f"
            },
            "error_y": {
             "color": "#2a3f5f"
            },
            "marker": {
             "line": {
              "color": "#E5ECF6",
              "width": 0.5
             },
             "pattern": {
              "fillmode": "overlay",
              "size": 10,
              "solidity": 0.2
             }
            },
            "type": "bar"
           }
          ],
          "barpolar": [
           {
            "marker": {
             "line": {
              "color": "#E5ECF6",
              "width": 0.5
             },
             "pattern": {
              "fillmode": "overlay",
              "size": 10,
              "solidity": 0.2
             }
            },
            "type": "barpolar"
           }
          ],
          "carpet": [
           {
            "aaxis": {
             "endlinecolor": "#2a3f5f",
             "gridcolor": "white",
             "linecolor": "white",
             "minorgridcolor": "white",
             "startlinecolor": "#2a3f5f"
            },
            "baxis": {
             "endlinecolor": "#2a3f5f",
             "gridcolor": "white",
             "linecolor": "white",
             "minorgridcolor": "white",
             "startlinecolor": "#2a3f5f"
            },
            "type": "carpet"
           }
          ],
          "choropleth": [
           {
            "colorbar": {
             "outlinewidth": 0,
             "ticks": ""
            },
            "type": "choropleth"
           }
          ],
          "contour": [
           {
            "colorbar": {
             "outlinewidth": 0,
             "ticks": ""
            },
            "colorscale": [
             [
              0,
              "#0d0887"
             ],
             [
              0.1111111111111111,
              "#46039f"
             ],
             [
              0.2222222222222222,
              "#7201a8"
             ],
             [
              0.3333333333333333,
              "#9c179e"
             ],
             [
              0.4444444444444444,
              "#bd3786"
             ],
             [
              0.5555555555555556,
              "#d8576b"
             ],
             [
              0.6666666666666666,
              "#ed7953"
             ],
             [
              0.7777777777777778,
              "#fb9f3a"
             ],
             [
              0.8888888888888888,
              "#fdca26"
             ],
             [
              1,
              "#f0f921"
             ]
            ],
            "type": "contour"
           }
          ],
          "contourcarpet": [
           {
            "colorbar": {
             "outlinewidth": 0,
             "ticks": ""
            },
            "type": "contourcarpet"
           }
          ],
          "heatmap": [
           {
            "colorbar": {
             "outlinewidth": 0,
             "ticks": ""
            },
            "colorscale": [
             [
              0,
              "#0d0887"
             ],
             [
              0.1111111111111111,
              "#46039f"
             ],
             [
              0.2222222222222222,
              "#7201a8"
             ],
             [
              0.3333333333333333,
              "#9c179e"
             ],
             [
              0.4444444444444444,
              "#bd3786"
             ],
             [
              0.5555555555555556,
              "#d8576b"
             ],
             [
              0.6666666666666666,
              "#ed7953"
             ],
             [
              0.7777777777777778,
              "#fb9f3a"
             ],
             [
              0.8888888888888888,
              "#fdca26"
             ],
             [
              1,
              "#f0f921"
             ]
            ],
            "type": "heatmap"
           }
          ],
          "histogram": [
           {
            "marker": {
             "pattern": {
              "fillmode": "overlay",
              "size": 10,
              "solidity": 0.2
             }
            },
            "type": "histogram"
           }
          ],
          "histogram2d": [
           {
            "colorbar": {
             "outlinewidth": 0,
             "ticks": ""
            },
            "colorscale": [
             [
              0,
              "#0d0887"
             ],
             [
              0.1111111111111111,
              "#46039f"
             ],
             [
              0.2222222222222222,
              "#7201a8"
             ],
             [
              0.3333333333333333,
              "#9c179e"
             ],
             [
              0.4444444444444444,
              "#bd3786"
             ],
             [
              0.5555555555555556,
              "#d8576b"
             ],
             [
              0.6666666666666666,
              "#ed7953"
             ],
             [
              0.7777777777777778,
              "#fb9f3a"
             ],
             [
              0.8888888888888888,
              "#fdca26"
             ],
             [
              1,
              "#f0f921"
             ]
            ],
            "type": "histogram2d"
           }
          ],
          "histogram2dcontour": [
           {
            "colorbar": {
             "outlinewidth": 0,
             "ticks": ""
            },
            "colorscale": [
             [
              0,
              "#0d0887"
             ],
             [
              0.1111111111111111,
              "#46039f"
             ],
             [
              0.2222222222222222,
              "#7201a8"
             ],
             [
              0.3333333333333333,
              "#9c179e"
             ],
             [
              0.4444444444444444,
              "#bd3786"
             ],
             [
              0.5555555555555556,
              "#d8576b"
             ],
             [
              0.6666666666666666,
              "#ed7953"
             ],
             [
              0.7777777777777778,
              "#fb9f3a"
             ],
             [
              0.8888888888888888,
              "#fdca26"
             ],
             [
              1,
              "#f0f921"
             ]
            ],
            "type": "histogram2dcontour"
           }
          ],
          "mesh3d": [
           {
            "colorbar": {
             "outlinewidth": 0,
             "ticks": ""
            },
            "type": "mesh3d"
           }
          ],
          "parcoords": [
           {
            "line": {
             "colorbar": {
              "outlinewidth": 0,
              "ticks": ""
             }
            },
            "type": "parcoords"
           }
          ],
          "pie": [
           {
            "automargin": true,
            "type": "pie"
           }
          ],
          "scatter": [
           {
            "fillpattern": {
             "fillmode": "overlay",
             "size": 10,
             "solidity": 0.2
            },
            "type": "scatter"
           }
          ],
          "scatter3d": [
           {
            "line": {
             "colorbar": {
              "outlinewidth": 0,
              "ticks": ""
             }
            },
            "marker": {
             "colorbar": {
              "outlinewidth": 0,
              "ticks": ""
             }
            },
            "type": "scatter3d"
           }
          ],
          "scattercarpet": [
           {
            "marker": {
             "colorbar": {
              "outlinewidth": 0,
              "ticks": ""
             }
            },
            "type": "scattercarpet"
           }
          ],
          "scattergeo": [
           {
            "marker": {
             "colorbar": {
              "outlinewidth": 0,
              "ticks": ""
             }
            },
            "type": "scattergeo"
           }
          ],
          "scattergl": [
           {
            "marker": {
             "colorbar": {
              "outlinewidth": 0,
              "ticks": ""
             }
            },
            "type": "scattergl"
           }
          ],
          "scattermap": [
           {
            "marker": {
             "colorbar": {
              "outlinewidth": 0,
              "ticks": ""
             }
            },
            "type": "scattermap"
           }
          ],
          "scattermapbox": [
           {
            "marker": {
             "colorbar": {
              "outlinewidth": 0,
              "ticks": ""
             }
            },
            "type": "scattermapbox"
           }
          ],
          "scatterpolar": [
           {
            "marker": {
             "colorbar": {
              "outlinewidth": 0,
              "ticks": ""
             }
            },
            "type": "scatterpolar"
           }
          ],
          "scatterpolargl": [
           {
            "marker": {
             "colorbar": {
              "outlinewidth": 0,
              "ticks": ""
             }
            },
            "type": "scatterpolargl"
           }
          ],
          "scatterternary": [
           {
            "marker": {
             "colorbar": {
              "outlinewidth": 0,
              "ticks": ""
             }
            },
            "type": "scatterternary"
           }
          ],
          "surface": [
           {
            "colorbar": {
             "outlinewidth": 0,
             "ticks": ""
            },
            "colorscale": [
             [
              0,
              "#0d0887"
             ],
             [
              0.1111111111111111,
              "#46039f"
             ],
             [
              0.2222222222222222,
              "#7201a8"
             ],
             [
              0.3333333333333333,
              "#9c179e"
             ],
             [
              0.4444444444444444,
              "#bd3786"
             ],
             [
              0.5555555555555556,
              "#d8576b"
             ],
             [
              0.6666666666666666,
              "#ed7953"
             ],
             [
              0.7777777777777778,
              "#fb9f3a"
             ],
             [
              0.8888888888888888,
              "#fdca26"
             ],
             [
              1,
              "#f0f921"
             ]
            ],
            "type": "surface"
           }
          ],
          "table": [
           {
            "cells": {
             "fill": {
              "color": "#EBF0F8"
             },
             "line": {
              "color": "white"
             }
            },
            "header": {
             "fill": {
              "color": "#C8D4E3"
             },
             "line": {
              "color": "white"
             }
            },
            "type": "table"
           }
          ]
         },
         "layout": {
          "annotationdefaults": {
           "arrowcolor": "#2a3f5f",
           "arrowhead": 0,
           "arrowwidth": 1
          },
          "autotypenumbers": "strict",
          "coloraxis": {
           "colorbar": {
            "outlinewidth": 0,
            "ticks": ""
           }
          },
          "colorscale": {
           "diverging": [
            [
             0,
             "#8e0152"
            ],
            [
             0.1,
             "#c51b7d"
            ],
            [
             0.2,
             "#de77ae"
            ],
            [
             0.3,
             "#f1b6da"
            ],
            [
             0.4,
             "#fde0ef"
            ],
            [
             0.5,
             "#f7f7f7"
            ],
            [
             0.6,
             "#e6f5d0"
            ],
            [
             0.7,
             "#b8e186"
            ],
            [
             0.8,
             "#7fbc41"
            ],
            [
             0.9,
             "#4d9221"
            ],
            [
             1,
             "#276419"
            ]
           ],
           "sequential": [
            [
             0,
             "#0d0887"
            ],
            [
             0.1111111111111111,
             "#46039f"
            ],
            [
             0.2222222222222222,
             "#7201a8"
            ],
            [
             0.3333333333333333,
             "#9c179e"
            ],
            [
             0.4444444444444444,
             "#bd3786"
            ],
            [
             0.5555555555555556,
             "#d8576b"
            ],
            [
             0.6666666666666666,
             "#ed7953"
            ],
            [
             0.7777777777777778,
             "#fb9f3a"
            ],
            [
             0.8888888888888888,
             "#fdca26"
            ],
            [
             1,
             "#f0f921"
            ]
           ],
           "sequentialminus": [
            [
             0,
             "#0d0887"
            ],
            [
             0.1111111111111111,
             "#46039f"
            ],
            [
             0.2222222222222222,
             "#7201a8"
            ],
            [
             0.3333333333333333,
             "#9c179e"
            ],
            [
             0.4444444444444444,
             "#bd3786"
            ],
            [
             0.5555555555555556,
             "#d8576b"
            ],
            [
             0.6666666666666666,
             "#ed7953"
            ],
            [
             0.7777777777777778,
             "#fb9f3a"
            ],
            [
             0.8888888888888888,
             "#fdca26"
            ],
            [
             1,
             "#f0f921"
            ]
           ]
          },
          "colorway": [
           "#636efa",
           "#EF553B",
           "#00cc96",
           "#ab63fa",
           "#FFA15A",
           "#19d3f3",
           "#FF6692",
           "#B6E880",
           "#FF97FF",
           "#FECB52"
          ],
          "font": {
           "color": "#2a3f5f"
          },
          "geo": {
           "bgcolor": "white",
           "lakecolor": "white",
           "landcolor": "#E5ECF6",
           "showlakes": true,
           "showland": true,
           "subunitcolor": "white"
          },
          "hoverlabel": {
           "align": "left"
          },
          "hovermode": "closest",
          "mapbox": {
           "style": "light"
          },
          "paper_bgcolor": "white",
          "plot_bgcolor": "#E5ECF6",
          "polar": {
           "angularaxis": {
            "gridcolor": "white",
            "linecolor": "white",
            "ticks": ""
           },
           "bgcolor": "#E5ECF6",
           "radialaxis": {
            "gridcolor": "white",
            "linecolor": "white",
            "ticks": ""
           }
          },
          "scene": {
           "xaxis": {
            "backgroundcolor": "#E5ECF6",
            "gridcolor": "white",
            "gridwidth": 2,
            "linecolor": "white",
            "showbackground": true,
            "ticks": "",
            "zerolinecolor": "white"
           },
           "yaxis": {
            "backgroundcolor": "#E5ECF6",
            "gridcolor": "white",
            "gridwidth": 2,
            "linecolor": "white",
            "showbackground": true,
            "ticks": "",
            "zerolinecolor": "white"
           },
           "zaxis": {
            "backgroundcolor": "#E5ECF6",
            "gridcolor": "white",
            "gridwidth": 2,
            "linecolor": "white",
            "showbackground": true,
            "ticks": "",
            "zerolinecolor": "white"
           }
          },
          "shapedefaults": {
           "line": {
            "color": "#2a3f5f"
           }
          },
          "ternary": {
           "aaxis": {
            "gridcolor": "white",
            "linecolor": "white",
            "ticks": ""
           },
           "baxis": {
            "gridcolor": "white",
            "linecolor": "white",
            "ticks": ""
           },
           "bgcolor": "#E5ECF6",
           "caxis": {
            "gridcolor": "white",
            "linecolor": "white",
            "ticks": ""
           }
          },
          "title": {
           "x": 0.05
          },
          "xaxis": {
           "automargin": true,
           "gridcolor": "white",
           "linecolor": "white",
           "ticks": "",
           "title": {
            "standoff": 15
           },
           "zerolinecolor": "white",
           "zerolinewidth": 2
          },
          "yaxis": {
           "automargin": true,
           "gridcolor": "white",
           "linecolor": "white",
           "ticks": "",
           "title": {
            "standoff": 15
           },
           "zerolinecolor": "white",
           "zerolinewidth": 2
          }
         }
        },
        "title": {
         "text": "Distribution of Numeric Features: Histograms and Boxplots"
        },
        "width": 1000,
        "xaxis": {
         "anchor": "y",
         "domain": [
          0,
          0.425
         ]
        },
        "xaxis10": {
         "anchor": "y10",
         "domain": [
          0.575,
          1
         ]
        },
        "xaxis11": {
         "anchor": "y11",
         "domain": [
          0,
          0.425
         ]
        },
        "xaxis12": {
         "anchor": "y12",
         "domain": [
          0.575,
          1
         ]
        },
        "xaxis13": {
         "anchor": "y13",
         "domain": [
          0,
          0.425
         ]
        },
        "xaxis14": {
         "anchor": "y14",
         "domain": [
          0.575,
          1
         ]
        },
        "xaxis15": {
         "anchor": "y15",
         "domain": [
          0,
          0.425
         ]
        },
        "xaxis16": {
         "anchor": "y16",
         "domain": [
          0.575,
          1
         ]
        },
        "xaxis17": {
         "anchor": "y17",
         "domain": [
          0,
          0.425
         ]
        },
        "xaxis18": {
         "anchor": "y18",
         "domain": [
          0.575,
          1
         ]
        },
        "xaxis19": {
         "anchor": "y19",
         "domain": [
          0,
          0.425
         ]
        },
        "xaxis2": {
         "anchor": "y2",
         "domain": [
          0.575,
          1
         ]
        },
        "xaxis20": {
         "anchor": "y20",
         "domain": [
          0.575,
          1
         ]
        },
        "xaxis3": {
         "anchor": "y3",
         "domain": [
          0,
          0.425
         ]
        },
        "xaxis4": {
         "anchor": "y4",
         "domain": [
          0.575,
          1
         ]
        },
        "xaxis5": {
         "anchor": "y5",
         "domain": [
          0,
          0.425
         ]
        },
        "xaxis6": {
         "anchor": "y6",
         "domain": [
          0.575,
          1
         ]
        },
        "xaxis7": {
         "anchor": "y7",
         "domain": [
          0,
          0.425
         ]
        },
        "xaxis8": {
         "anchor": "y8",
         "domain": [
          0.575,
          1
         ]
        },
        "xaxis9": {
         "anchor": "y9",
         "domain": [
          0,
          0.425
         ]
        },
        "yaxis": {
         "anchor": "x",
         "domain": [
          0.9450000000000001,
          1
         ]
        },
        "yaxis10": {
         "anchor": "x10",
         "domain": [
          0.525,
          0.5800000000000001
         ]
        },
        "yaxis11": {
         "anchor": "x11",
         "domain": [
          0.42000000000000004,
          0.47500000000000003
         ]
        },
        "yaxis12": {
         "anchor": "x12",
         "domain": [
          0.42000000000000004,
          0.47500000000000003
         ]
        },
        "yaxis13": {
         "anchor": "x13",
         "domain": [
          0.31500000000000006,
          0.37000000000000005
         ]
        },
        "yaxis14": {
         "anchor": "x14",
         "domain": [
          0.31500000000000006,
          0.37000000000000005
         ]
        },
        "yaxis15": {
         "anchor": "x15",
         "domain": [
          0.21000000000000002,
          0.265
         ]
        },
        "yaxis16": {
         "anchor": "x16",
         "domain": [
          0.21000000000000002,
          0.265
         ]
        },
        "yaxis17": {
         "anchor": "x17",
         "domain": [
          0.10500000000000001,
          0.16000000000000003
         ]
        },
        "yaxis18": {
         "anchor": "x18",
         "domain": [
          0.10500000000000001,
          0.16000000000000003
         ]
        },
        "yaxis19": {
         "anchor": "x19",
         "domain": [
          0,
          0.05500000000000001
         ]
        },
        "yaxis2": {
         "anchor": "x2",
         "domain": [
          0.9450000000000001,
          1
         ]
        },
        "yaxis20": {
         "anchor": "x20",
         "domain": [
          0,
          0.05500000000000001
         ]
        },
        "yaxis3": {
         "anchor": "x3",
         "domain": [
          0.8400000000000001,
          0.8950000000000001
         ]
        },
        "yaxis4": {
         "anchor": "x4",
         "domain": [
          0.8400000000000001,
          0.8950000000000001
         ]
        },
        "yaxis5": {
         "anchor": "x5",
         "domain": [
          0.7350000000000001,
          0.7900000000000001
         ]
        },
        "yaxis6": {
         "anchor": "x6",
         "domain": [
          0.7350000000000001,
          0.7900000000000001
         ]
        },
        "yaxis7": {
         "anchor": "x7",
         "domain": [
          0.6300000000000001,
          0.6850000000000002
         ]
        },
        "yaxis8": {
         "anchor": "x8",
         "domain": [
          0.6300000000000001,
          0.6850000000000002
         ]
        },
        "yaxis9": {
         "anchor": "x9",
         "domain": [
          0.525,
          0.5800000000000001
         ]
        }
       }
      }
     },
     "metadata": {},
     "output_type": "display_data"
    }
   ],
   "source": [
    "#plot all the numeric columns as a overview, just to see the distribution.\n",
    "columns=df.columns\n",
    "n_cols=2 #number of columns in subplot grid\n",
    "n_rows=len(columns)\n",
    "\n",
    "#want to create sublot using fig.px, more complex than seaborn + matplotlib\n",
    "fig = make_subplots(\n",
    "    rows=n_rows, cols=n_cols,\n",
    "    subplot_titles = [f\"{col}\" for col in columns for _ in range(2)],\n",
    "    horizontal_spacing=0.15\n",
    ")\n",
    "\n",
    "for i, col in enumerate(columns):\n",
    "    row = i + 1 #plotly uses 1-based indexing\n",
    "\n",
    "    # Histogram\n",
    "    fig.add_trace(\n",
    "        go.Histogram(x=df[col], name=f\"{col} - Hist\", marker_color='skyblue'),\n",
    "        row=row, col=1\n",
    "    )\n",
    "\n",
    "    # Boxplot\n",
    "    fig.add_trace(\n",
    "        go.Box(x=df[col], name=f\"{col} - Box\", marker_color='lightpink'),\n",
    "        row=row, col=2\n",
    "    )\n",
    "    \n",
    "# Layout adjustments\n",
    "fig.update_layout(\n",
    "    height=250 * n_rows,\n",
    "    width=1000,\n",
    "    showlegend=False,\n",
    "    title_text=\"Distribution of Numeric Features: Histograms and Boxplots\"\n",
    ")\n",
    "fig.show()\n"
   ]
  },
  {
   "cell_type": "code",
   "execution_count": 67,
   "id": "33ba3f36",
   "metadata": {},
   "outputs": [
    {
     "data": {
      "image/png": "[encoded data removed]",
      "text/plain": [
       "<Figure size 2000x1200 with 9 Axes>"
      ]
     },
     "metadata": {},
     "output_type": "display_data"
    }
   ],
   "source": [
    "#linear trend for logistic regression?\n",
    "\n",
    "#uses replot() to plot multiplie subplots in a grid. \n",
    "\n",
    "columns = [col for col in df.columns if col != 'fail']\n",
    "\n",
    "#subplot\n",
    "cols_per_row = 4\n",
    "n_rows = 3\n",
    "\n",
    "fig, axes = plt.subplots(n_rows, cols_per_row, figsize=(5 * cols_per_row, 4 * n_rows))\n",
    "\n",
    "for i, col in enumerate(columns):\n",
    "    row = i // cols_per_row #which row we are on\n",
    "    col_pos = i % cols_per_row #which col_position\n",
    "    ax = axes[row, col_pos] if n_rows > 1 else axes[col_pos]\n",
    "\n",
    "    # Logistic regression-like scatter + curve (approx)\n",
    "    sns.regplot(x=col, y='fail', data=df, logistic=True, ax=ax, line_kws={'color': 'red'})\n",
    "    ax.set_title(f'{col} vs fail')\n",
    "\n",
    "# Hide any empty subplots (if number of columns isn't divisible by 4)\n",
    "total_plots = n_rows * cols_per_row\n",
    "for j in range(len(columns), total_plots):\n",
    "    fig.delaxes(axes.flatten()[j])\n",
    "\n",
    "plt.tight_layout()\n",
    "plt.show()\n",
    "\n"
   ]
  },
  {
   "cell_type": "markdown",
   "id": "c3638174",
   "metadata": {},
   "source": [
    "The S-shape is ideal for logistic regression,  it models linear effects on the log-odds, and the sigmoid naturally handles the curve in probability space. Most promising features against logistic regression. \n",
    "\n",
    "The one which is flat or don't show a strong linear relationship with fail, then logistic regression may not find much information from them. \n",
    "\n",
    "Will check tree-based models, and other features. "
   ]
  }
 ],
 "metadata": {
  "kernelspec": {
   "display_name": "training",
   "language": "python",
   "name": "python3"
  },
  "language_info": {
   "codemirror_mode": {
    "name": "ipython",
    "version": 3
   },
   "file_extension": ".py",
   "mimetype": "text/x-python",
   "name": "python",
   "nbconvert_exporter": "python",
   "pygments_lexer": "ipython3",
   "version": "3.13.3"
  }
 },
 "nbformat": 4,
 "nbformat_minor": 5
}
