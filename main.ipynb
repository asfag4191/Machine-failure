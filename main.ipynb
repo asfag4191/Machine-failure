{
 "cells": [
  {
   "cell_type": "code",
   "execution_count": 13,
   "id": "c009337c",
   "metadata": {},
   "outputs": [],
   "source": [
    "# packages\n",
    "import pandas as pd\n",
    "import numpy as np\n",
    "\n",
    "from sklearn.model_selection import train_test_split\n"
   ]
  },
  {
   "cell_type": "code",
   "execution_count": null,
   "id": "15062037",
   "metadata": {},
   "outputs": [],
   "source": [
    "#load the data\n",
    "df=pd.read_csv('data.csv')\n",
    "df.head()\n",
    "\n",
    "#split the data\n",
    "X = df.drop('fail', axis=1)\n",
    "y = df['fail']\n",
    "\n",
    "X_train, X_rest, y_train, y_rest = train_test_split(X, y, test_size=0.2, random_state=42)\n",
    "X_val, X_test, y_val, y_test = train_test_split(X_rest, y_rest, test_size=0.5, random_state=42)\n",
    "\n",
    "train_df = pd.concat([X_train, y_train], axis=1)\n",
    "val_df = pd.concat([X_val, y_val], axis=1)\n",
    "test_df = pd.concat([X_test, y_test], axis=1)\n",
    "\n",
    "#save to csv, easier to upload and use the sets\n",
    "#index=False, prevent pandas adding any more indexes\n",
    "train_df.to_csv('train.csv',index=False)\n",
    "val_df.to_csv('val_df.csv',index=False)\n",
    "test_df.to_csv('test_df.csv',index=False)\n"
   ]
  }
 ],
 "metadata": {
  "kernelspec": {
   "display_name": "training",
   "language": "python",
   "name": "python3"
  },
  "language_info": {
   "codemirror_mode": {
    "name": "ipython",
    "version": 3
   },
   "file_extension": ".py",
   "mimetype": "text/x-python",
   "name": "python",
   "nbconvert_exporter": "python",
   "pygments_lexer": "ipython3",
   "version": "3.13.3"
  }
 },
 "nbformat": 4,
 "nbformat_minor": 5
}
